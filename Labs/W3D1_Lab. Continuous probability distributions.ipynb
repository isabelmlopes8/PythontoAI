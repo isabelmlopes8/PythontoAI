{
 "cells": [
  {
   "cell_type": "markdown",
   "metadata": {},
   "source": [
    "# Before your start:\n",
    "\n",
    "    Read the README.md file\n",
    "    Comment as much as you can and use the resources (README.md file)\n",
    "    Happy learning!"
   ]
  },
  {
   "cell_type": "markdown",
   "metadata": {},
   "source": [
    "In this exercise, we  will generate random numbers from the continuous disributions we learned in the lesson. There are two ways to generate random numbers:\n",
    "\n",
    "1. Using the numpy library \n",
    "1. using the Scipy library \n",
    "\n",
    "Use either or both of the lbraries in this exercise."
   ]
  },
  {
   "cell_type": "code",
   "execution_count": 3,
   "metadata": {},
   "outputs": [],
   "source": [
    "import matplotlib.pyplot as plt\n",
    "import pandas as pd\n",
    "import numpy as np\n",
    "import math\n",
    "import seaborn as sns\n",
    "\n",
    "import scipy.stats as stats"
   ]
  },
  {
   "cell_type": "markdown",
   "metadata": {},
   "source": [
    "## Uniform Distribution\n",
    "\n",
    "To generate uniform random numbers between any two given values using scipy, we can either use the following code or the code that we have\n",
    "discussed in class:"
   ]
  },
  {
   "cell_type": "code",
   "execution_count": null,
   "metadata": {},
   "outputs": [],
   "source": [
    "# your code here"
   ]
  },
  {
   "cell_type": "markdown",
   "metadata": {},
   "source": [
    "**Your task:**\n",
    "\n",
    "1. Based on the code above, write a function that generates uniformly distributed random numbers. There are several requirements for your function:\n",
    "    * It should accept 3 parameters: \n",
    "        * `bottom` - the lower boundary of the generated numbers\n",
    "        * `ceiling` - the upper boundary of the generated numbers\n",
    "        * `count` - how many numbers to generate\n",
    "    * It should return an array of uniformly distributed random numbers\n",
    "\n",
    "1. Call your function with 2 sets of params below:\n",
    "    * bottom=10, ceiling=15, count=100\n",
    "    * bottom=10, ceiling=60, count=1,000\n",
    "\n",
    "1. Plot the uniform distributions generated above using histograms, where x axis is the value and y axis is the count. Let the histogram's number of bins be 10.\n",
    "\n",
    "Your output should look like below:\n",
    "\n",
    "![uniform distribution](ud.png)"
   ]
  },
  {
   "cell_type": "code",
   "execution_count": 2,
   "metadata": {},
   "outputs": [
    {
     "name": "stdout",
     "output_type": "stream",
     "text": [
      "[2.96533772 1.46743354 1.50930966 3.95318217 2.54945952]\n"
     ]
    }
   ],
   "source": [
    "# your code here\n",
    "\n",
    "import numpy as np\n",
    "\n",
    "def generate_uniform_random_numbers(bottom, ceiling, count):\n",
    "   \n",
    "    random_numbers = np.random.uniform(low=bottom, high=ceiling, size=count)\n",
    "    return random_numbers\n",
    "\n",
    "\n",
    "bottom = 0\n",
    "ceiling = 10\n",
    "count = 5\n",
    "random_numbers = generate_uniform_random_numbers(bottom, ceiling, count)\n",
    "print(random_numbers)"
   ]
  },
  {
   "cell_type": "code",
   "execution_count": 3,
   "metadata": {},
   "outputs": [
    {
     "data": {
      "text/plain": [
       "array([11.61622993, 10.42239512, 11.37914105, 11.63496817, 12.63615001,\n",
       "       14.47976226, 13.88312617, 14.05948356, 14.10062061, 11.46634468,\n",
       "       14.72276215, 13.77091174, 13.77226674, 10.88383659, 12.47138307,\n",
       "       13.4886614 , 14.52881744, 14.52789022, 14.58535037, 12.17657012,\n",
       "       10.26711732, 14.43268703, 10.69455184, 14.05188541, 11.54910765,\n",
       "       14.73696509, 12.22784297, 11.66847789, 14.58471174, 11.69745868,\n",
       "       13.08757095, 10.07102446, 14.47923322, 10.46626037, 12.68304028,\n",
       "       12.00020201, 13.61740907, 10.22839099, 12.89883931, 11.48667945,\n",
       "       13.90200168, 10.52820515, 13.7322329 , 12.94333296, 13.23839021,\n",
       "       14.37412674, 11.13009885, 10.269634  , 11.30055651, 14.51608083,\n",
       "       14.27711807, 13.71226045, 11.38656022, 10.02979114, 14.43487397,\n",
       "       13.73856613, 10.92118677, 12.44435002, 12.86155889, 13.05164865,\n",
       "       10.84960886, 14.63677645, 13.56949878, 12.64558104, 12.18940909,\n",
       "       11.34637823, 14.72818415, 14.44184184, 11.32407367, 11.05962713,\n",
       "       11.29537434, 11.28356779, 10.5571968 , 14.16062515, 14.42269161,\n",
       "       13.13482922, 11.59996392, 10.11432224, 10.69106285, 10.50371455,\n",
       "       13.54564955, 12.31463795, 13.82704623, 12.90002333, 13.7351287 ,\n",
       "       14.59561145, 14.19113675, 12.16720067, 14.27339066, 13.51735214,\n",
       "       13.73066793, 11.67996767, 13.2840221 , 13.13256391, 12.15431501,\n",
       "       11.10291661, 11.36416426, 10.33751075, 14.57719732, 10.58276808])"
      ]
     },
     "execution_count": 3,
     "metadata": {},
     "output_type": "execute_result"
    }
   ],
   "source": [
    "# your code here\n",
    "\n",
    "bottom = 10\n",
    "ceiling = 15\n",
    "count = 100\n",
    "\n",
    "generate_uniform_random_numbers(bottom, ceiling, count)\n"
   ]
  },
  {
   "cell_type": "code",
   "execution_count": 4,
   "metadata": {},
   "outputs": [
    {
     "data": {
      "text/plain": [
       "array([22.22488838, 12.07070398, 32.00653986, 52.9644614 , 30.19369277,\n",
       "       25.22535686, 34.66814912, 10.98338664, 47.11806641, 33.30654685,\n",
       "       11.38034739, 57.69517952, 23.83215726, 54.30665548, 22.34791589,\n",
       "       32.92972735, 52.42908588, 27.63865018, 54.43404591, 22.65615224,\n",
       "       48.11503418, 15.98264088, 51.23300369, 41.10826516, 52.21984106,\n",
       "       20.43455794, 12.69025378, 47.5601905 , 57.41199002, 37.9459958 ,\n",
       "       15.50736764, 26.86318233, 49.48829527, 41.08252785, 46.97548481,\n",
       "       27.87143977, 21.39367857, 20.95398332, 50.13130921, 47.69225204,\n",
       "       59.83994585, 47.20803809, 43.36143821, 48.16215622, 35.18177095,\n",
       "       44.7700254 , 42.66432624, 24.12021679, 15.74596075, 50.53862939,\n",
       "       10.88414875, 12.20727124, 49.854795  , 44.10920301, 29.1025268 ,\n",
       "       54.49326087, 54.12880519, 30.64304434, 54.37058169, 38.55862212,\n",
       "       15.71620967, 38.11389131, 26.76447683, 18.70585811, 32.83043319,\n",
       "       22.43574247, 16.43918957, 31.62575125, 10.54607764, 28.70567652,\n",
       "       30.97984202, 35.82853802, 55.033605  , 11.08229454, 24.47254631,\n",
       "       26.49776591, 33.66657703, 22.07939778, 20.52751605, 36.94689407,\n",
       "       32.48086471, 16.6560067 , 11.61759185, 13.99874079, 37.22115517,\n",
       "       41.4199872 , 26.78950269, 14.86181644, 30.47137206, 22.96699788,\n",
       "       10.34169461, 19.7728467 , 54.21029822, 47.69558148, 27.84675175,\n",
       "       28.23400911, 11.3612393 , 31.57903212, 32.84209504, 26.01345307,\n",
       "       57.81266666, 20.25076974, 34.54772029, 42.22754051, 17.84470002,\n",
       "       25.93986405, 47.23658429, 26.43831626, 18.57157747, 36.42706167,\n",
       "       48.17832727, 40.72103441, 40.19574961, 19.19535249, 15.52459677,\n",
       "       30.80629141, 56.32553368, 12.69481453, 45.51480224, 16.29779881,\n",
       "       25.56981312, 11.92573463, 35.64086903, 17.28401923, 39.92810453,\n",
       "       37.12371127, 50.71046178, 20.71041358, 27.08300844, 46.37000262,\n",
       "       32.21961164, 32.99032441, 51.35748906, 40.9182021 , 36.29618413,\n",
       "       36.4975957 , 29.56463207, 22.2587336 , 25.62039821, 51.27771626,\n",
       "       36.0117862 , 37.65878488, 46.53485239, 42.92746647, 10.52500043,\n",
       "       32.8721517 , 53.30215737, 58.05054802, 22.6713115 , 58.71008568,\n",
       "       35.40923273, 27.60702469, 12.03273687, 27.29801388, 36.74724268,\n",
       "       18.91903201, 53.12999689, 14.10436815, 41.27095096, 13.3369189 ,\n",
       "       18.72932246, 31.75941893, 18.28119586, 27.97617414, 56.88072888,\n",
       "       41.20992917, 52.090038  , 42.0353989 , 18.17305548, 28.47213472,\n",
       "       49.34503593, 52.23708898, 22.07717621, 16.00200426, 43.48053372,\n",
       "       36.78351548, 53.85932337, 33.05156737, 59.69025358, 12.62418312,\n",
       "       51.63974407, 14.84630023, 47.84279296, 28.28956564, 49.18201606,\n",
       "       36.16093195, 33.60828802, 27.06897587, 10.35612051, 10.45871296,\n",
       "       45.14773209, 19.43427332, 36.72053964, 13.2172268 , 36.27368795,\n",
       "       11.91437898, 33.6182125 , 44.2759473 , 57.69851464, 52.12492807,\n",
       "       42.68487694, 48.06426973, 52.34212992, 11.3455505 , 12.15099145,\n",
       "       20.5466899 , 29.66954275, 15.0222334 , 49.96327285, 45.51034471,\n",
       "       55.96850911, 34.25500932, 57.29116821, 46.28338324, 49.13433712,\n",
       "       10.59728181, 48.47067471, 59.62899055, 40.37544126, 31.97259395,\n",
       "       34.15553185, 49.54145081, 33.50009508, 50.46155153, 27.66949505,\n",
       "       33.96935337, 45.04643656, 43.41081542, 19.75177471, 51.25836073,\n",
       "       40.90853032, 22.71276755, 30.0361349 , 15.20774791, 27.17524927,\n",
       "       23.06912452, 51.56385752, 43.0117047 , 35.02954034, 11.2429375 ,\n",
       "       15.85785996, 54.24076522, 34.25827359, 20.38967704, 34.3310809 ,\n",
       "       37.71259922, 24.1681427 , 51.59071388, 22.62321566, 49.03699832,\n",
       "       57.79229184, 32.31793608, 20.58600596, 15.44527862, 54.46769171,\n",
       "       40.60668228, 31.72501055, 30.26392219, 55.27965996, 55.90118305,\n",
       "       34.66538815, 14.59620923, 34.13327048, 39.39968728, 35.43539182,\n",
       "       39.11200614, 52.99831256, 51.54399435, 37.68471214, 12.75807307,\n",
       "       55.79692148, 39.51734073, 59.56409005, 45.79674788, 46.34358583,\n",
       "       39.70489773, 29.22349279, 25.4495321 , 55.52806409, 13.4622801 ,\n",
       "       23.2620711 , 53.31027236, 21.30026959, 26.72344591, 45.44676871,\n",
       "       10.67530528, 20.5229605 , 35.64836541, 30.22092144, 25.88613591,\n",
       "       53.12889437, 36.73950272, 41.45454345, 23.16774978, 16.48047707,\n",
       "       37.43109337, 40.3186789 , 46.14399356, 55.40439531, 24.78222428,\n",
       "       18.68772819, 34.23987981, 46.91319482, 54.70098268, 43.72619776,\n",
       "       48.25435803, 39.48300301, 42.26059377, 31.22543587, 45.78887851,\n",
       "       11.21888001, 47.28140136, 46.42647709, 50.73720195, 16.93116251,\n",
       "       32.81869667, 47.81943458, 20.71220226, 26.54710659, 36.31130486,\n",
       "       53.73708686, 10.329003  , 11.77879378, 33.75958193, 23.09407589,\n",
       "       46.68884096, 35.85921291, 16.69999553, 37.63398312, 20.89216362,\n",
       "       50.66169607, 16.51232711, 48.86574678, 42.13579714, 53.91153785,\n",
       "       35.30573233, 17.75684634, 19.66348554, 28.9064121 , 17.33358776,\n",
       "       26.59593963, 12.82496592, 52.29677175, 22.12507626, 58.17732343,\n",
       "       39.62919332, 14.21325119, 31.39480313, 21.45693055, 26.91654176,\n",
       "       29.61620773, 33.22983279, 35.42684058, 35.91174733, 47.97586505,\n",
       "       43.45529995, 15.95543982, 38.48153322, 53.56601076, 46.48638395,\n",
       "       12.11029386, 17.77425707, 45.3392526 , 20.34628176, 13.77428279,\n",
       "       55.47833999, 12.90021319, 34.10746785, 53.40283359, 30.37158878,\n",
       "       42.40632134, 43.99042377, 51.14142704, 14.51304617, 39.7157643 ,\n",
       "       28.26832439, 28.68877394, 12.29158775, 48.80147001, 21.04216013,\n",
       "       44.23318193, 14.16883383, 27.28928316, 40.54676017, 32.10047272,\n",
       "       36.64120103, 16.2839765 , 14.13652474, 37.02075703, 32.98950141,\n",
       "       34.49286844, 10.45056668, 16.51117935, 12.92438571, 43.13684517,\n",
       "       55.45640729, 39.08900065, 18.07538861, 16.38206364, 59.95618791,\n",
       "       52.00138722, 59.51102112, 19.96318363, 51.96689343, 51.12752768,\n",
       "       47.05083438, 49.84808629, 29.80655568, 35.1170348 , 31.24550685,\n",
       "       24.77118642, 47.45054145, 47.57521006, 18.89410291, 50.07130176,\n",
       "       59.9614897 , 55.19709663, 43.5936554 , 42.55398599, 32.36343163,\n",
       "       25.95851022, 14.18193449, 33.61466556, 43.66421821, 42.88371334,\n",
       "       18.9348689 , 26.96737591, 42.36347179, 47.62940757, 42.33969968,\n",
       "       29.12365341, 15.08371376, 23.33591558, 24.21452183, 37.62526398,\n",
       "       19.86002673, 58.11145557, 35.61673775, 46.72962361, 21.49037585,\n",
       "       31.15120814, 33.64024365, 45.65117871, 37.02087291, 41.79106289,\n",
       "       19.94360269, 27.90773813, 22.92749438, 59.61321619, 16.97007786,\n",
       "       29.55033103, 45.81265451, 35.80335937, 23.13519477, 11.44116845,\n",
       "       53.80521621, 37.65803621, 36.54346995, 17.92865932, 45.26395245,\n",
       "       51.71684085, 59.80907941, 53.0320977 , 30.06385639, 22.87910538,\n",
       "       17.0908417 , 39.66550159, 27.3003175 , 50.13740333, 52.57017687,\n",
       "       49.78700609, 22.27901465, 59.16973699, 26.12460434, 39.1648183 ,\n",
       "       38.84366557, 55.49939249, 40.76741322, 45.10335322, 27.98836354,\n",
       "       10.82295702, 38.58711282, 34.12189714, 13.1398874 , 25.48099109,\n",
       "       44.89989866, 32.90105767, 18.56441747, 17.85647615, 26.08317782,\n",
       "       44.57439597, 30.94377492, 15.50067947, 15.68296321, 36.9906218 ,\n",
       "       55.66996652, 29.4120252 , 29.13241191, 13.60909123, 32.38878126,\n",
       "       40.55063627, 57.7512708 , 47.15837181, 25.36115873, 55.6156929 ,\n",
       "       46.6716918 , 53.40544705, 56.41711275, 53.09689551, 41.76154386,\n",
       "       47.09831514, 30.27074546, 38.89206414, 46.2863512 , 34.28128219,\n",
       "       13.41990028, 29.42550759, 26.01090311, 13.48004458, 26.17973096,\n",
       "       26.85981219, 44.01780105, 59.65183255, 55.24085972, 25.76261185,\n",
       "       18.60708807, 16.73038036, 36.37456806, 52.31760801, 32.65915492,\n",
       "       25.533132  , 44.56684473, 43.30149551, 51.90494182, 51.14384123,\n",
       "       10.13533246, 46.47308925, 53.06358551, 26.28873709, 28.59748702,\n",
       "       48.59973987, 21.37431003, 48.01509926, 38.37637052, 16.52000237,\n",
       "       27.95747449, 29.47861802, 45.03099463, 12.17434358, 16.72771076,\n",
       "       40.79820341, 38.51406251, 47.44976887, 14.01200061, 14.74980108,\n",
       "       54.44976444, 57.95813326, 14.45625154, 43.82733732, 48.67648093,\n",
       "       53.67534282, 22.43029404, 34.02649921, 47.90582683, 23.54218956,\n",
       "       28.96693261, 26.97157715, 57.11920039, 20.67850034, 19.77122647,\n",
       "       58.22118504, 34.60191024, 15.01877775, 23.20642016, 51.38869751,\n",
       "       58.64395935, 29.52879576, 22.63780686, 37.45337699, 45.91308169,\n",
       "       28.34090653, 22.87004921, 18.59956668, 46.867463  , 26.92236761,\n",
       "       57.29807141, 10.87547617, 51.99402113, 34.3072934 , 49.14740512,\n",
       "       37.00118649, 54.8181488 , 12.61615287, 36.28105383, 48.61501214,\n",
       "       22.04949935, 27.43238757, 25.1859131 , 38.81154621, 48.33039721,\n",
       "       40.42347017, 46.37501125, 35.21255575, 10.15510524, 28.81688349,\n",
       "       38.25275442, 22.80593656, 16.62269324, 50.47024885, 49.28895557,\n",
       "       39.85325329, 25.99393543, 51.29262795, 24.02797021, 20.86589089,\n",
       "       29.94213163, 56.69665226, 51.56394128, 29.44751886, 11.26480898,\n",
       "       13.72275349, 25.05363271, 38.3523717 , 18.03336406, 48.72995426,\n",
       "       46.87189411, 14.62931891, 30.50874276, 41.0696056 , 33.43441095,\n",
       "       56.91420668, 22.30205073, 54.2547668 , 45.21819175, 36.31105882,\n",
       "       19.35272484, 27.64129751, 17.28310948, 17.50889946, 17.82762624,\n",
       "       33.15955469, 15.11935013, 48.32752904, 30.89462705, 59.82728801,\n",
       "       25.02849066, 34.28146683, 46.32988866, 58.80965015, 48.91071043,\n",
       "       55.4744108 , 48.22170856, 19.14878849, 57.23864118, 10.65593212,\n",
       "       25.70129014, 21.28076451, 41.73031622, 19.18295406, 40.49424021,\n",
       "       28.05964477, 49.01715064, 33.4392948 , 21.22824275, 30.23465579,\n",
       "       36.22355255, 27.11866762, 25.26034844, 10.25349128, 21.48405972,\n",
       "       49.88662018, 34.31169794, 33.00925267, 10.17884718, 45.5180343 ,\n",
       "       20.94756365, 34.15046344, 28.54446966, 45.10935051, 25.65984633,\n",
       "       51.59923263, 40.15450955, 29.10071213, 19.45130741, 30.91151263,\n",
       "       18.41350531, 53.266558  , 59.70324749, 41.35871272, 12.0611494 ,\n",
       "       13.24995018, 56.58654416, 53.78268723, 25.44111736, 25.65264649,\n",
       "       47.55025991, 31.77015286, 27.76902961, 46.0592677 , 43.57472306,\n",
       "       58.27905177, 41.09593198, 44.50222785, 58.88642833, 31.63029076,\n",
       "       46.48601541, 31.60011915, 28.96070366, 57.14398456, 59.12885169,\n",
       "       48.98235366, 36.25677384, 54.92945887, 31.08549487, 22.80945716,\n",
       "       31.26972025, 17.4898164 , 28.10487908, 57.42220747, 54.56958142,\n",
       "       13.87006239, 59.59534328, 43.61214059, 41.21092521, 29.65945794,\n",
       "       11.5753193 , 30.83277762, 47.35089611, 57.79543444, 51.95084643,\n",
       "       20.68283627, 11.37251107, 12.79308439, 11.15758196, 50.36590259,\n",
       "       22.42924494, 11.49151459, 45.82045352, 36.76770307, 25.3871255 ,\n",
       "       57.09160928, 13.48555881, 39.74669511, 12.91579504, 27.29569672,\n",
       "       48.15539507, 42.90434065, 42.69032992, 21.3629319 , 47.37179503,\n",
       "       43.89455126, 20.04639228, 46.45627805, 26.06753532, 40.10540305,\n",
       "       12.98472066, 26.39349546, 33.59153285, 30.85964242, 27.44740601,\n",
       "       20.59282287, 26.78277105, 24.1929914 , 23.45589933, 43.9597549 ,\n",
       "       29.64252335, 18.11765021, 44.85106627, 51.34638221, 21.6672902 ,\n",
       "       41.53709657, 45.28384232, 53.79372911, 51.59003638, 37.57528373,\n",
       "       52.26917157, 18.1054798 , 37.94064281, 45.72954607, 26.14020449,\n",
       "       53.8282253 , 50.64376943, 25.64786383, 27.70648601, 42.0166667 ,\n",
       "       52.39324618, 53.48061978, 18.02000675, 47.93928367, 50.06892615,\n",
       "       46.39328051, 48.47759395, 51.64435405, 16.191199  , 50.82289878,\n",
       "       10.35664832, 44.14444903, 54.06228745, 55.765654  , 35.45166816,\n",
       "       54.27246151, 34.25004004, 49.60317622, 24.05627888, 24.48471207,\n",
       "       54.62122249, 41.72832889, 35.16850046, 54.61135963, 50.79668834,\n",
       "       38.40830475, 23.01423755, 29.19611063, 24.91461335, 12.15942424,\n",
       "       43.63892518, 11.88758337, 45.50563344, 49.36062393, 39.10924061,\n",
       "       36.95969139, 31.38063144, 12.75568888, 23.55423483, 34.19779445,\n",
       "       49.02051812, 19.98645707, 46.16178187, 37.05537611, 26.53840123,\n",
       "       28.28267279, 49.8013433 , 24.26870018, 31.16000441, 32.4335326 ,\n",
       "       18.72463231, 37.79969955, 32.58392075, 22.24854303, 37.6777988 ,\n",
       "       57.1522479 , 37.21701957, 38.95740746, 56.98710215, 22.2966634 ,\n",
       "       16.94450391, 15.30870171, 11.00829972, 20.59000531, 45.68859617,\n",
       "       41.8234087 , 50.48887891, 44.71179116, 54.20824007, 17.53752248,\n",
       "       37.63804708, 40.68957876, 59.9085093 , 55.27577781, 18.47576084,\n",
       "       35.00685644, 11.6230802 , 43.26046506, 32.05243673, 32.72209818,\n",
       "       35.64262544, 43.18431535, 26.07089688, 41.07619797, 22.63658281,\n",
       "       42.57103365, 20.50633356, 22.1315558 , 49.03217566, 15.36794175,\n",
       "       50.33018638, 56.83419158, 14.41432168, 20.75642604, 58.37772986,\n",
       "       12.78251343, 47.55988108, 58.49009777, 22.130311  , 26.96101678,\n",
       "       11.02644185, 35.99110085, 37.67351788, 33.48196936, 17.82087552,\n",
       "       58.02610585, 19.20512652, 23.26412649, 31.09409667, 23.80893489,\n",
       "       57.74196003, 58.52461335, 57.89695508, 25.49316727, 11.01417701,\n",
       "       54.10235354, 39.47559502, 38.45786191, 30.03615364, 54.37146216,\n",
       "       18.96523034, 54.16539639, 18.22653302, 56.7316534 , 14.62650714,\n",
       "       24.07597959, 10.99970149, 46.17712868, 55.31798246, 54.56776849,\n",
       "       10.41052572, 46.25621331, 39.41433307, 44.71080664, 26.8004822 ,\n",
       "       43.05235144, 51.34586205, 54.04866068, 53.10282158, 53.48290424,\n",
       "       48.32999293, 43.5684311 , 20.77843403, 16.06843867, 17.72214728,\n",
       "       34.82261391, 40.20060719, 53.72251285, 10.02866484, 19.36939917,\n",
       "       47.02297008, 32.71862878, 16.79715674, 48.30027718, 19.9220194 ,\n",
       "       11.45763369, 52.6294329 , 10.87514518, 46.57776834, 58.72994437,\n",
       "       53.35422893, 21.95319219, 13.58847871, 31.69576874, 45.27859322,\n",
       "       52.02438901, 48.85096978, 45.07140138, 25.09795678, 58.08558005,\n",
       "       32.18134405, 22.78107409, 50.40412808, 43.0300769 , 56.75207008,\n",
       "       41.01626706, 16.54949568, 51.53701802, 21.83535687, 10.76796128,\n",
       "       44.9544309 , 31.50174255, 29.53174474, 17.94637269, 58.06353837,\n",
       "       11.94638787, 54.29400017, 44.75735076, 23.73586043, 25.5254943 ,\n",
       "       38.36854169, 28.13913159, 51.69073588, 19.45506272, 22.18824818,\n",
       "       53.75475526, 51.79585893, 41.88842678, 44.05377946, 35.44477447,\n",
       "       25.37974012, 35.3891432 , 47.61815132, 39.81656759, 20.02680144,\n",
       "       35.7000655 , 33.00941423, 35.90899301, 31.40124254, 12.64006615,\n",
       "       51.44763312, 38.15278555, 11.08748453, 11.89239992, 57.52666708])"
      ]
     },
     "execution_count": 4,
     "metadata": {},
     "output_type": "execute_result"
    }
   ],
   "source": [
    "# your code here\n",
    "\n",
    "bottom = 10\n",
    "ceiling = 60\n",
    "count = 1000\n",
    "\n",
    "generate_uniform_random_numbers(bottom, ceiling, count)"
   ]
  },
  {
   "cell_type": "markdown",
   "metadata": {},
   "source": [
    "How are the two distributions different?"
   ]
  },
  {
   "cell_type": "code",
   "execution_count": 6,
   "metadata": {},
   "outputs": [],
   "source": [
    "# your answer below\n",
    "\n",
    "#The first one has numbers ranging from 10 to 15 and has 100 numbers\n",
    "\n",
    "#The second one has numbers ranging from 10 to 60 and has 1000 numbers"
   ]
  },
  {
   "cell_type": "markdown",
   "metadata": {},
   "source": [
    "## Normal Distribution\n",
    "\n",
    "1. In the same way in the Uniform Distribution challenge, write a function that generates normally distributed random numbers.\n",
    "1. Generate 1,000 normally distributed numbers with the average of 10 and standard deviation of 1\n",
    "1. Generate 1,000 normally distributed numbers with the average of 10 and standard deviation of 50\n",
    "2. Plot the distributions of the data generated."
   ]
  },
  {
   "cell_type": "code",
   "execution_count": 5,
   "metadata": {},
   "outputs": [],
   "source": [
    "from scipy.stats import norm "
   ]
  },
  {
   "cell_type": "code",
   "execution_count": 4,
   "metadata": {},
   "outputs": [
    {
     "data": {
      "text/plain": [
       "array([11.84985805, 10.30277681, 34.15981515, 27.911511  , 39.19315499,\n",
       "       25.61115647, 18.33647376, 18.85532557, 23.79287331, 18.16722941,\n",
       "       22.96561524, 14.97338812, 20.65545797, 25.84478277, 29.09977918,\n",
       "       29.68959835, 20.52472338, 29.36162755, 22.0849047 , 20.51382856,\n",
       "       17.02964618, 27.50085926, 12.75727296, 26.60069859, 21.17848299,\n",
       "       17.39343042,  8.76513344, 14.46869004, 21.41578541, 20.01893191,\n",
       "       26.37221838, 21.22361105, 15.07772091, 17.23776731, 12.42959453,\n",
       "       22.60755444, 18.4596443 , 33.12332611, 12.07442419,  9.20646267,\n",
       "       18.85640723, 20.13663858, 25.38730166, 22.58856934, 13.11512049])"
      ]
     },
     "execution_count": 4,
     "metadata": {},
     "output_type": "execute_result"
    }
   ],
   "source": [
    "# your code here\n",
    "\n",
    "def generate_normaly_distributed_numbers(mean, std_dev, num_samples):\n",
    "   \n",
    "    return stats.norm.rvs(loc=mean, scale=std_dev, size=num_samples)\n",
    "\n"
   ]
  },
  {
   "cell_type": "code",
   "execution_count": 11,
   "metadata": {},
   "outputs": [],
   "source": [
    "# your code here\n",
    "\n",
    "mean=10\n",
    "std_dev=1\n",
    "num_sample = 1000\n",
    "\n",
    "random_1 =generate_normaly_distributed_numbers(mean, std_dev, num_sample)"
   ]
  },
  {
   "cell_type": "code",
   "execution_count": 17,
   "metadata": {},
   "outputs": [],
   "source": [
    "# your code here\n",
    "mean=10\n",
    "std_dev=50\n",
    "num_sample = 1000\n",
    "\n",
    "random_2= generate_normaly_distributed_numbers(mean, std_dev, num_sample)"
   ]
  },
  {
   "cell_type": "code",
   "execution_count": 19,
   "metadata": {},
   "outputs": [
    {
     "name": "stderr",
     "output_type": "stream",
     "text": [
      "C:\\Users\\isabel.lopes\\AppData\\Local\\anaconda3\\Lib\\site-packages\\seaborn\\_oldcore.py:1119: FutureWarning: use_inf_as_na option is deprecated and will be removed in a future version. Convert inf values to NaN before operating instead.\n",
      "  with pd.option_context('mode.use_inf_as_na', True):\n"
     ]
    },
    {
     "data": {
      "image/png": "[encoded data removed]",
      "text/plain": [
       "<Figure size 1000x600 with 1 Axes>"
      ]
     },
     "metadata": {},
     "output_type": "display_data"
    },
    {
     "name": "stderr",
     "output_type": "stream",
     "text": [
      "C:\\Users\\isabel.lopes\\AppData\\Local\\anaconda3\\Lib\\site-packages\\seaborn\\_oldcore.py:1119: FutureWarning: use_inf_as_na option is deprecated and will be removed in a future version. Convert inf values to NaN before operating instead.\n",
      "  with pd.option_context('mode.use_inf_as_na', True):\n"
     ]
    },
    {
     "data": {
      "image/png": "[encoded data removed]",
      "text/plain": [
       "<Figure size 1000x600 with 1 Axes>"
      ]
     },
     "metadata": {},
     "output_type": "display_data"
    }
   ],
   "source": [
    "# your code here\n",
    "\n",
    "plt.figure(figsize=(10, 6))\n",
    "sns.histplot(random_1, bins=50, kde=True, color='blue')\n",
    "plt.title('Normally Distributed random 1')\n",
    "plt.xlabel('Value')\n",
    "plt.ylabel('Freq')\n",
    "plt.show()\n",
    "\n",
    "plt.figure(figsize=(10, 6))\n",
    "sns.histplot(random_2, bins=50, kde=True, color='green')\n",
    "plt.title('Normally Distributed random 2')\n",
    "plt.xlabel('Value')\n",
    "plt.ylabel('Freq')\n",
    "plt.show()"
   ]
  },
  {
   "cell_type": "markdown",
   "metadata": {},
   "source": [
    "How are the two distributions different?"
   ]
  },
  {
   "cell_type": "raw",
   "metadata": {
    "vscode": {
     "languageId": "raw"
    }
   },
   "source": [
    "Your answer here\n",
    "\n",
    "Even though the range of values of both distributions is the same, of random_1 the range of values (aprox 0-15) is much smaller than on random_2 (-150 to 230)"
   ]
  },
  {
   "cell_type": "markdown",
   "metadata": {},
   "source": [
    "## Normal Distribution of Real Data\n",
    "\n",
    "In this challenge we are going to take a look the real data. We will use vehicles.csv file for this exercise"
   ]
  },
  {
   "cell_type": "code",
   "execution_count": 24,
   "metadata": {},
   "outputs": [
    {
     "data": {
      "text/html": [
       "<div>\n",
       "<style scoped>\n",
       "    .dataframe tbody tr th:only-of-type {\n",
       "        vertical-align: middle;\n",
       "    }\n",
       "\n",
       "    .dataframe tbody tr th {\n",
       "        vertical-align: top;\n",
       "    }\n",
       "\n",
       "    .dataframe thead th {\n",
       "        text-align: right;\n",
       "    }\n",
       "</style>\n",
       "<table border=\"1\" class=\"dataframe\">\n",
       "  <thead>\n",
       "    <tr style=\"text-align: right;\">\n",
       "      <th></th>\n",
       "      <th>Year</th>\n",
       "      <th>Engine Displacement</th>\n",
       "      <th>Cylinders</th>\n",
       "      <th>Fuel Barrels/Year</th>\n",
       "      <th>City MPG</th>\n",
       "      <th>Highway MPG</th>\n",
       "      <th>Combined MPG</th>\n",
       "      <th>CO2 Emission Grams/Mile</th>\n",
       "      <th>Fuel Cost/Year</th>\n",
       "    </tr>\n",
       "  </thead>\n",
       "  <tbody>\n",
       "    <tr>\n",
       "      <th>count</th>\n",
       "      <td>35952.00000</td>\n",
       "      <td>35952.000000</td>\n",
       "      <td>35952.000000</td>\n",
       "      <td>35952.000000</td>\n",
       "      <td>35952.000000</td>\n",
       "      <td>35952.000000</td>\n",
       "      <td>35952.000000</td>\n",
       "      <td>35952.000000</td>\n",
       "      <td>35952.000000</td>\n",
       "    </tr>\n",
       "    <tr>\n",
       "      <th>mean</th>\n",
       "      <td>2000.71640</td>\n",
       "      <td>3.338493</td>\n",
       "      <td>5.765076</td>\n",
       "      <td>17.609056</td>\n",
       "      <td>17.646139</td>\n",
       "      <td>23.880646</td>\n",
       "      <td>19.929322</td>\n",
       "      <td>475.316339</td>\n",
       "      <td>1892.598465</td>\n",
       "    </tr>\n",
       "    <tr>\n",
       "      <th>std</th>\n",
       "      <td>10.08529</td>\n",
       "      <td>1.359395</td>\n",
       "      <td>1.755268</td>\n",
       "      <td>4.467283</td>\n",
       "      <td>4.769349</td>\n",
       "      <td>5.890876</td>\n",
       "      <td>5.112409</td>\n",
       "      <td>119.060773</td>\n",
       "      <td>506.958627</td>\n",
       "    </tr>\n",
       "    <tr>\n",
       "      <th>min</th>\n",
       "      <td>1984.00000</td>\n",
       "      <td>0.600000</td>\n",
       "      <td>2.000000</td>\n",
       "      <td>0.060000</td>\n",
       "      <td>6.000000</td>\n",
       "      <td>9.000000</td>\n",
       "      <td>7.000000</td>\n",
       "      <td>37.000000</td>\n",
       "      <td>600.000000</td>\n",
       "    </tr>\n",
       "    <tr>\n",
       "      <th>25%</th>\n",
       "      <td>1991.00000</td>\n",
       "      <td>2.200000</td>\n",
       "      <td>4.000000</td>\n",
       "      <td>14.699423</td>\n",
       "      <td>15.000000</td>\n",
       "      <td>20.000000</td>\n",
       "      <td>16.000000</td>\n",
       "      <td>395.000000</td>\n",
       "      <td>1500.000000</td>\n",
       "    </tr>\n",
       "    <tr>\n",
       "      <th>50%</th>\n",
       "      <td>2001.00000</td>\n",
       "      <td>3.000000</td>\n",
       "      <td>6.000000</td>\n",
       "      <td>17.347895</td>\n",
       "      <td>17.000000</td>\n",
       "      <td>24.000000</td>\n",
       "      <td>19.000000</td>\n",
       "      <td>467.736842</td>\n",
       "      <td>1850.000000</td>\n",
       "    </tr>\n",
       "    <tr>\n",
       "      <th>75%</th>\n",
       "      <td>2010.00000</td>\n",
       "      <td>4.300000</td>\n",
       "      <td>6.000000</td>\n",
       "      <td>20.600625</td>\n",
       "      <td>20.000000</td>\n",
       "      <td>27.000000</td>\n",
       "      <td>23.000000</td>\n",
       "      <td>555.437500</td>\n",
       "      <td>2200.000000</td>\n",
       "    </tr>\n",
       "    <tr>\n",
       "      <th>max</th>\n",
       "      <td>2017.00000</td>\n",
       "      <td>8.400000</td>\n",
       "      <td>16.000000</td>\n",
       "      <td>47.087143</td>\n",
       "      <td>58.000000</td>\n",
       "      <td>61.000000</td>\n",
       "      <td>56.000000</td>\n",
       "      <td>1269.571429</td>\n",
       "      <td>5800.000000</td>\n",
       "    </tr>\n",
       "  </tbody>\n",
       "</table>\n",
       "</div>"
      ],
      "text/plain": [
       "              Year  Engine Displacement     Cylinders  Fuel Barrels/Year  \\\n",
       "count  35952.00000         35952.000000  35952.000000       35952.000000   \n",
       "mean    2000.71640             3.338493      5.765076          17.609056   \n",
       "std       10.08529             1.359395      1.755268           4.467283   \n",
       "min     1984.00000             0.600000      2.000000           0.060000   \n",
       "25%     1991.00000             2.200000      4.000000          14.699423   \n",
       "50%     2001.00000             3.000000      6.000000          17.347895   \n",
       "75%     2010.00000             4.300000      6.000000          20.600625   \n",
       "max     2017.00000             8.400000     16.000000          47.087143   \n",
       "\n",
       "           City MPG   Highway MPG  Combined MPG  CO2 Emission Grams/Mile  \\\n",
       "count  35952.000000  35952.000000  35952.000000             35952.000000   \n",
       "mean      17.646139     23.880646     19.929322               475.316339   \n",
       "std        4.769349      5.890876      5.112409               119.060773   \n",
       "min        6.000000      9.000000      7.000000                37.000000   \n",
       "25%       15.000000     20.000000     16.000000               395.000000   \n",
       "50%       17.000000     24.000000     19.000000               467.736842   \n",
       "75%       20.000000     27.000000     23.000000               555.437500   \n",
       "max       58.000000     61.000000     56.000000              1269.571429   \n",
       "\n",
       "       Fuel Cost/Year  \n",
       "count    35952.000000  \n",
       "mean      1892.598465  \n",
       "std        506.958627  \n",
       "min        600.000000  \n",
       "25%       1500.000000  \n",
       "50%       1850.000000  \n",
       "75%       2200.000000  \n",
       "max       5800.000000  "
      ]
     },
     "execution_count": 24,
     "metadata": {},
     "output_type": "execute_result"
    }
   ],
   "source": [
    "# your code here\n",
    "\n",
    "vehicles = pd.read_csv('C:/Users/isabel.lopes/OneDrive - XPLOR SOLUTIONS/PythonForAISolutions/WEEK3/DAY1/vehicles.csv')\n",
    "\n",
    "vehicles.describe()\n",
    "\n"
   ]
  },
  {
   "cell_type": "markdown",
   "metadata": {},
   "source": [
    "First import vehicles.csv.\n",
    "Then plot the histograms for the following variables:\n",
    "\n",
    "1. Fuel Barrels/Year"
   ]
  },
  {
   "cell_type": "code",
   "execution_count": 34,
   "metadata": {},
   "outputs": [
    {
     "data": {
      "image/png": "[encoded data removed]",
      "text/plain": [
       "<Figure size 640x480 with 1 Axes>"
      ]
     },
     "metadata": {},
     "output_type": "display_data"
    }
   ],
   "source": [
    "# your code here\n",
    "\n",
    "\n",
    "vehicles_fuel_barrels_yearvehicles = vehicles['Fuel Barrels/Year']\n",
    "\n",
    "vehicles_fuel_barrels_yearvehicles.hist(density=4, bins=50)\n",
    "plt.title('Frequency of Fuel Barrels/Year')\n",
    "plt.xlabel('Fuel Barrels/Year')\n",
    "plt.ylabel('Frequency')\n",
    "plt.show()"
   ]
  },
  {
   "cell_type": "code",
   "execution_count": null,
   "metadata": {},
   "outputs": [],
   "source": [
    "# your code here"
   ]
  },
  {
   "cell_type": "markdown",
   "metadata": {},
   "source": [
    "2. CO2 Emission Grams/Mile "
   ]
  },
  {
   "cell_type": "code",
   "execution_count": 33,
   "metadata": {},
   "outputs": [
    {
     "data": {
      "image/png": "[encoded data removed]",
      "text/plain": [
       "<Figure size 640x480 with 1 Axes>"
      ]
     },
     "metadata": {},
     "output_type": "display_data"
    }
   ],
   "source": [
    "# your code here\n",
    "\n",
    "vehicles_co2emissions_mile = vehicles['CO2 Emission Grams/Mile']\n",
    "\n",
    "vehicles_co2emissions_mile.hist(density=4, bins=50)\n",
    "plt.title('Frequency of CO2 Emission Grams/Mile')\n",
    "plt.xlabel('CO2 Emission Grams/Mile')\n",
    "plt.ylabel('Frequency')\n",
    "plt.show()"
   ]
  },
  {
   "cell_type": "code",
   "execution_count": null,
   "metadata": {},
   "outputs": [],
   "source": [
    "# your code here"
   ]
  },
  {
   "cell_type": "markdown",
   "metadata": {},
   "source": [
    "3. Combined MPG"
   ]
  },
  {
   "cell_type": "code",
   "execution_count": 32,
   "metadata": {},
   "outputs": [
    {
     "data": {
      "image/png": "[encoded data removed]",
      "text/plain": [
       "<Figure size 640x480 with 1 Axes>"
      ]
     },
     "metadata": {},
     "output_type": "display_data"
    }
   ],
   "source": [
    "# your code here\n",
    "\n",
    "vehicles_Combined_MPG = vehicles['Combined MPG']\n",
    "\n",
    "vehicles_Combined_MPG.hist(density=4, bins=50)\n",
    "plt.title('Frequency of Combined MPG')\n",
    "plt.xlabel('Combined MPG')\n",
    "plt.ylabel('Frequency')\n",
    "plt.show()"
   ]
  },
  {
   "cell_type": "code",
   "execution_count": null,
   "metadata": {},
   "outputs": [],
   "source": [
    "# your code here"
   ]
  },
  {
   "cell_type": "code",
   "execution_count": null,
   "metadata": {},
   "outputs": [],
   "source": [
    "# your code here"
   ]
  },
  {
   "cell_type": "markdown",
   "metadata": {},
   "source": [
    "Which one(s) of the variables are nearly normally distributed? How do you know?"
   ]
  },
  {
   "cell_type": "code",
   "execution_count": null,
   "metadata": {},
   "outputs": [],
   "source": [
    "# your code here"
   ]
  },
  {
   "cell_type": "code",
   "execution_count": null,
   "metadata": {},
   "outputs": [],
   "source": [
    "# your code here"
   ]
  },
  {
   "cell_type": "code",
   "execution_count": null,
   "metadata": {},
   "outputs": [],
   "source": [
    "# your code here"
   ]
  },
  {
   "cell_type": "code",
   "execution_count": null,
   "metadata": {},
   "outputs": [],
   "source": [
    "# your code here"
   ]
  },
  {
   "cell_type": "markdown",
   "metadata": {},
   "source": [
    "None of them are normally ditributed. "
   ]
  },
  {
   "cell_type": "markdown",
   "metadata": {},
   "source": [
    "## Exponential Distribution"
   ]
  },
  {
   "cell_type": "markdown",
   "metadata": {},
   "source": [
    "1. Using `numpy.random.exponential`, create a function that returns a list of numbers exponentially distributed with the mean of 10. \n",
    "\n",
    "1. Use the function to generate two number sequences with the size of 10 and 100.\n",
    "\n",
    "1. Plot the distributions as histograms with the nubmer of bins as 100."
   ]
  },
  {
   "cell_type": "code",
   "execution_count": 47,
   "metadata": {},
   "outputs": [],
   "source": [
    "# your code here\n",
    "\n",
    "def generate_exponential_distribution(size, mean=10):\n",
    "   \n",
    "   \n",
    "    return np.random.exponential(mean, size).tolist()"
   ]
  },
  {
   "cell_type": "code",
   "execution_count": 53,
   "metadata": {},
   "outputs": [
    {
     "name": "stdout",
     "output_type": "stream",
     "text": [
      "Sequence of 10 is [0.3077603482371992, 3.224262179155331, 11.818425275511565, 5.501111441790574, 1.8155637768912465, 9.951095367458445, 1.1136514542442149, 2.2790818313236523, 17.498870297232898, 3.4741870770660905]\n",
      "Sequence of 100 is [9.025440635325754, 7.190465950438838, 14.516167895652694, 15.107133223977701, 13.66838863697417, 27.82678382324635, 6.52235948566168, 40.48850614542339, 16.521721548296522, 3.4435601607100303, 5.829812995048843, 10.340349141762085, 1.904503694806304, 5.912603040469081, 0.8472360782520794, 24.95220953656566, 8.802395167195252, 0.08177043676360002, 6.606928003980953, 17.189818332232786, 4.190941842403971, 7.427485910930241, 8.779246042724008, 0.4726217123014447, 3.072910016196928, 1.3292430765973315, 12.321204536276355, 1.4140435778690799, 5.133039863925632, 1.4086472109466448, 3.7544458806787966, 9.833636176199898, 6.583630674657779, 4.167189890303638, 8.679885165321151, 10.035529567127863, 0.5675133777577854, 1.9014100493904054, 4.142248771879215, 0.622230685575118, 40.118402920628995, 13.005255383550915, 21.436629941093287, 2.8155754487310625, 23.211583299007927, 18.08024803692278, 13.303695607604038, 6.799119384063311, 24.035146792682184, 1.0531326177458598, 2.955465655817751, 9.530631969730045, 4.053707574838819, 11.699770276225232, 4.620692893261364, 6.89516841215072, 20.009789014727573, 4.421741563494556, 4.118561292872773, 1.4591226195745377, 20.708758516566625, 22.625157218519938, 1.2746507595197967, 7.563171082530849, 3.17605454425407, 4.282275462857936, 13.2630752866897, 3.06697512109578, 0.0777002785527749, 10.447953406766342, 0.4887233166362129, 4.713861670719387, 12.760481586199543, 28.474411110377797, 20.87061175200979, 0.884355133482208, 2.6546854484575055, 2.2742890394335555, 2.533566911096121, 24.873039369748113, 14.711192751219894, 16.817187403769513, 2.451869431788096, 26.22217209720945, 0.20656203264603198, 9.495236921045429, 0.14449938349156954, 2.1729103382997645, 2.8574608121328677, 3.348790870489114, 5.136525764143239, 6.353526257334199, 42.09098560336553, 7.3949631682981, 13.440668433669359, 12.971279001890803, 4.920682839459997, 4.876652348125788, 11.626586104553295, 0.11830888871442886]\n"
     ]
    }
   ],
   "source": [
    "sequence10 = generate_exponential_distribution(10)\n",
    "\n",
    "print(f\"Sequence of 10 is {sequence10}\")\n",
    "\n",
    "sequence100 = generate_exponential_distribution(100)\n",
    "\n",
    "print(f\"Sequence of 100 is {sequence100}\")"
   ]
  },
  {
   "cell_type": "markdown",
   "metadata": {},
   "source": [
    "How are the two distributions different?\n"
   ]
  },
  {
   "cell_type": "code",
   "execution_count": null,
   "metadata": {},
   "outputs": [],
   "source": []
  },
  {
   "cell_type": "markdown",
   "metadata": {},
   "source": [
    "The mean changes, so the distribution changes as well. "
   ]
  },
  {
   "cell_type": "code",
   "execution_count": null,
   "metadata": {},
   "outputs": [],
   "source": []
  },
  {
   "cell_type": "markdown",
   "metadata": {},
   "source": [
    "## Exponential Distribution of Real Data\n",
    "\n",
    "Suppose that the amount of time one spends in a bank is exponentially distributed with mean as 10 minutes (i.e. λ = 1/10). What is the probability that a customer will spend less than fifteen minutes in the bank? \n",
    "\n",
    "Write a code in python to solve this problem"
   ]
  },
  {
   "cell_type": "code",
   "execution_count": 25,
   "metadata": {},
   "outputs": [],
   "source": [
    "# your code here"
   ]
  },
  {
   "cell_type": "code",
   "execution_count": 39,
   "metadata": {
    "scrolled": true
   },
   "outputs": [
    {
     "name": "stdout",
     "output_type": "stream",
     "text": [
      "The probability of waiting less than 15 min is 0.777\n"
     ]
    }
   ],
   "source": [
    "# your answer here\n",
    "# Hint: This is same as saying P(x<15)\n",
    "\n",
    "lambda_rate = 1 / 10\n",
    "t = 15\n",
    "\n",
    "# Calculate the probability\n",
    "probability_less_than_15 = round(1 - math.exp(-lambda_rate * t),3)\n",
    "print(f\"The probability of waiting less than 15 min is {probability_less_than_15}\")"
   ]
  },
  {
   "cell_type": "markdown",
   "metadata": {},
   "source": [
    "What is the probability that the customer will spend more than 15 minutes"
   ]
  },
  {
   "cell_type": "code",
   "execution_count": 41,
   "metadata": {},
   "outputs": [
    {
     "name": "stdout",
     "output_type": "stream",
     "text": [
      "The probability of waiting more than 15 min is 0.223\n"
     ]
    }
   ],
   "source": [
    "# your code here\n",
    "\n",
    "probability_more_than_15 = round(1-probability_less_than_15,3)\n",
    "print(f\"The probability of waiting more than 15 min is {probability_more_than_15}\")"
   ]
  }
 ],
 "metadata": {
  "kernelspec": {
   "display_name": "Python 3 (ipykernel)",
   "language": "python",
   "name": "python3"
  },
  "language_info": {
   "codemirror_mode": {
    "name": "ipython",
    "version": 3
   },
   "file_extension": ".py",
   "mimetype": "text/x-python",
   "name": "python",
   "nbconvert_exporter": "python",
   "pygments_lexer": "ipython3",
   "version": "3.11.7"
  }
 },
 "nbformat": 4,
 "nbformat_minor": 4
}
