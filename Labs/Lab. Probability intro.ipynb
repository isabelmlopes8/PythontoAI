{
 "cells": [
  {
   "cell_type": "markdown",
   "metadata": {},
   "source": [
    "# Probability"
   ]
  },
  {
   "cell_type": "markdown",
   "metadata": {},
   "source": [
    "## Challenge 1\n",
    "There is a box with 10 white balls, 12 red balls and 8 black balls. Calculate the probability of:\n",
    "* Taking a white ball out.\n",
    "* Taking a white ball on first extraction and a black ball out on second extraction without replacing the first one.\n",
    "* Taking a white ball on first extraction and a black ball out on second extraction replacing the first one.\n",
    "* Taking 3 balls and them being all different colours."
   ]
  },
  {
   "cell_type": "code",
   "execution_count": 25,
   "metadata": {},
   "outputs": [
    {
     "name": "stdout",
     "output_type": "stream",
     "text": [
      "1. Probability of taking one white ball:  0.333\n",
      "2. Probability of taking a white ball on first extraction and a black ball out on second extraction without replacing the first one:  0.092\n",
      "3. Probability of taking a white ball on first extraction and a black ball out on second extraction replacing the first one:  0.089\n",
      "4.The probability of taking 3 balls and them being all different colours is 0.236\n"
     ]
    }
   ],
   "source": [
    "\"\"\"\n",
    "your solution here\n",
    "\n",
    "Total balls = 30\n",
    "\n",
    "P(white ball) = 10/30 = 1/3\n",
    "\n",
    "P(white ball after black)  = 10/29\n",
    "\n",
    "P(red ball with reposition) = 12/30\n",
    "\n",
    "\n",
    "\"\"\"\n",
    "\n",
    "import math\n",
    "white_balls = 10\n",
    "red_balls=12\n",
    "black_balls=8\n",
    "\n",
    "total_balls= white_balls + red_balls + black_balls\n",
    "\n",
    "probability_white_ball = round(white_balls / total_balls,3)\n",
    "\n",
    "print(f\"1. Probability of taking one white ball: \",probability_white_ball )\n",
    "\n",
    "probability_white_ball_1st = white_balls / total_balls\n",
    "probability_black_ball_2nd = black_balls / (total_balls-1)\n",
    "\n",
    "probability_1stwhite_2nd_black =round(probability_white_ball_1st * probability_black_ball_2nd,3)\n",
    "\n",
    "print(f\"2. Probability of taking a white ball on first extraction and a black ball out on second extraction without replacing the first one: \",probability_1stwhite_2nd_black )\n",
    "\n",
    "\n",
    "p_whiteball_blackball_with_reposition = round(probability_white_ball * (black_balls/total_balls),3)\n",
    "\n",
    "print(f\"3. Probability of taking a white ball on first extraction and a black ball out on second extraction replacing the first one: \",p_whiteball_blackball_with_reposition )\n",
    "\n",
    "\n",
    "p_white_combination = math.comb(white_balls, 1)\n",
    "p_red_combination = math.comb(red_balls, 1)\n",
    "p_black_combination = math.comb(black_balls, 1)\n",
    "\n",
    "number_favorable_combinations = p_white_combination*p_red_combination*p_black_combination\n",
    "\n",
    "number_total_combinations = math.comb(total_balls,3)\n",
    "\n",
    "prob_3_dif_collors = round(number_favorable_combinations/number_total_combinations,3)\n",
    "\n",
    "print(f\"4.The probability of taking 3 balls and them being all different colours is {prob_3_dif_collors}\")\n"
   ]
  },
  {
   "cell_type": "markdown",
   "metadata": {},
   "source": [
    "## Challenge 2\n",
    "\n",
    "You want to go on picnic on Saturday. You hate rain, and would know to plan your weekend. To help you make a decision, you gather the following data about rainy days:\n",
    "\n",
    "* 40% of all days are cloudy.\n",
    "* About 50% of cloudy days are rainy. \n",
    "* About 20% of non-cloudy days are rainy.\n",
    "\n",
    "What is the chance of rain during next Saturday?"
   ]
  },
  {
   "cell_type": "code",
   "execution_count": 9,
   "metadata": {},
   "outputs": [
    {
     "name": "stdout",
     "output_type": "stream",
     "text": [
      "The chance of raining is 0.32\n"
     ]
    }
   ],
   "source": [
    "\"\"\"\n",
    "your solution here\n",
    "\n",
    "\n",
    "We want to know P(R)\n",
    "\n",
    "\n",
    "P(R) = P(C & R) / P(not C & R)\n",
    "       = (0.4*0.5) + (0.6*0.2)\n",
    "       = 0.32\n",
    "       \n",
    "\n",
    "\"\"\"\n",
    "\n",
    "prob_cloudy = 0.4\n",
    "prob_non_cloudy = 0.6\n",
    "prob_rainy_given_cloudy = 0.5\n",
    "prob_rainy_non_cloudy = 0.2\n",
    "\n",
    "\n",
    "prob_rain = round(prob_rainy_given_cloudy*prob_cloudy + prob_rainy_non_cloudy*prob_non_cloudy,3)\n",
    "\n",
    "print(f\"The chance of raining is {prob_rain}\")"
   ]
  },
  {
   "cell_type": "markdown",
   "metadata": {},
   "source": [
    "## Challenge 3\n",
    "\n",
    "A and B are events of a probability such that $P(A) = 0.3$, $P(B) = 0.6$ and $P(A \\cap B) = 0.1$\n",
    "\n",
    "Which of the following statements are true?  \n",
    "**HINT: draw a big Venn Diagram by your side**  \n",
    "* $P(\\overline{A}) = 0.7$\n",
    "* $P(A \\cup B) = 0.6$\n",
    "* $P(A \\cap \\overline{B}) = 0.2$\n",
    "* $P(A \\cup \\overline{A}) = 1$  \n",
    "* $P(A \\cap (B \\cup \\overline{B})) = 0.4$\n",
    "* $P(\\overline{A} \\cap \\overline{B}) = 0.3$\n",
    "* $P(\\overline{A \\cap B}) = 0.9$"
   ]
  },
  {
   "cell_type": "code",
   "execution_count": 39,
   "metadata": {},
   "outputs": [
    {
     "name": "stdout",
     "output_type": "stream",
     "text": [
      "1. True - \n",
      "2. false - \n",
      "3. true - \n",
      "4. true - \n",
      "5. false - \n",
      "6. false - it should be 0.2 \n",
      "7. true - \n"
     ]
    }
   ],
   "source": [
    "\"\"\"\n",
    "your solution here\n",
    "\n",
    "The first statement is true. \n",
    "\n",
    "The second statement is false.\n",
    "P(A U B) = P(A) + P(B) - P(A & B)\n",
    "         = 0.3 + 0.6 - 0.1\n",
    "         = 0.8\n",
    "\n",
    "The third statement is True\n",
    "\n",
    "The fourth statement is true (contains everything)\n",
    "\n",
    "The fifth statement is False (= 0.3)\n",
    " - The union of B and not B is everything. So the P(A & everything) is P(A) = 0.3\n",
    " \n",
    "The sixth statement is false (= 0.4)\n",
    "\n",
    "The last statement is true (1 - P(A & B) = 0.9)\n",
    "\n",
    "\n",
    "\"\"\"\n",
    "\n",
    "print(f\"1. True - \")\n",
    "print(f\"2. false - \")\n",
    "print(f\"3. true - \")\n",
    "print(f\"4. true - \")\n",
    "print(f\"5. false - \")\n",
    "print(f\"6. false - it should be 0.2 \")\n",
    "print(f\"7. true - \")"
   ]
  },
  {
   "cell_type": "markdown",
   "metadata": {},
   "source": [
    "## Challenge 4\n",
    "\n",
    " * If someone flies to China, the probability of getting Covid is 1%  \n",
    " * If someone flies to Italy, the probability of getting Covid is 20%  \n",
    "\n",
    "I roll 1 dice with numbers 1, 2, 3, 4, 5, 6:  \n",
    " * If 1: I fly to Italy\n",
    " * If not 1: I fly to China\n",
    "\n",
    "During my trip, I got Covid. What is the probability that I flew to China?"
   ]
  },
  {
   "cell_type": "code",
   "execution_count": 7,
   "metadata": {},
   "outputs": [
    {
     "name": "stdout",
     "output_type": "stream",
     "text": [
      "The probability that a person who got covid when to china is 0.2\n"
     ]
    }
   ],
   "source": [
    "# YOUR CODE HERE\n",
    "\n",
    "prob_covid_given_china = 0.01\n",
    "prob_covid_given_italy = 0.2\n",
    "\n",
    "prob_italy = 1/6\n",
    "\n",
    "prob_china = 5/6\n",
    "\n",
    "prob_covid = prob_covid_given_china*prob_china + prob_covid_given_italy*prob_italy\n",
    "\n",
    "prob_china_given_covid = round(prob_covid_given_china * prob_china / prob_covid,3)\n",
    "\n",
    "print(f\"The probability that a person who got covid when to china is {prob_china_given_covid}\")\n"
   ]
  },
  {
   "cell_type": "markdown",
   "metadata": {},
   "source": [
    "## BONUS\n",
    "\n",
    "You roll 2 dice. What is the probability that the sum of the numbers is 7? And 8? And 9? Then simulate 10000 times and draw a countplot."
   ]
  },
  {
   "cell_type": "markdown",
   "metadata": {},
   "source": [
    "your explanation here"
   ]
  },
  {
   "cell_type": "code",
   "execution_count": 38,
   "metadata": {},
   "outputs": [
    {
     "name": "stdout",
     "output_type": "stream",
     "text": [
      "Probability of sum 7 is 0.167\n",
      "Probability of sum 8 is 0.139\n",
      "Probability of sum 9 is 0.111\n"
     ]
    },
    {
     "data": {
      "image/png": "[encoded data removed]",
      "text/plain": [
       "<Figure size 1000x600 with 1 Axes>"
      ]
     },
     "metadata": {},
     "output_type": "display_data"
    }
   ],
   "source": [
    "\"\"\"\n",
    "your solution here\n",
    "\"\"\"\n",
    "\n",
    "import numpy as np\n",
    "import seaborn as sns\n",
    "import matplotlib.pyplot as plt\n",
    "prob_sum7 = round(2*(1/6)*(1/6)*3,3)\n",
    "prob_sum8 = round(2*(1/6)*(1/6)*2+(1/6)**2,3)\n",
    "prob_sum9 = round(2*(1/6)*(1/6)*2,3)\n",
    "\n",
    "print(f\"Probability of sum 7 is {prob_sum7}\")\n",
    "print(f\"Probability of sum 8 is {prob_sum8}\")\n",
    "print(f\"Probability of sum 9 is {prob_sum9}\")\n",
    "\n",
    "number_simulations = 10000\n",
    "\n",
    "die1 = np.random.randint(1, 7, number_simulations)\n",
    "die2 = np.random.randint(1, 7, number_simulations)\n",
    "sum_dice = die1 + die2\n",
    "\n",
    "plt.figure(figsize=(10, 6))\n",
    "sns.countplot(x=sum_dice)\n",
    "plt.title('Countplot of Sums of Two Dice Rolls (10,000 simulations)')\n",
    "plt.xlabel('Sum')\n",
    "plt.ylabel('Frequency')\n",
    "plt.show()"
   ]
  }
 ],
 "metadata": {
  "kernelspec": {
   "display_name": "Python 3 (ipykernel)",
   "language": "python",
   "name": "python3"
  },
  "language_info": {
   "codemirror_mode": {
    "name": "ipython",
    "version": 3
   },
   "file_extension": ".py",
   "mimetype": "text/x-python",
   "name": "python",
   "nbconvert_exporter": "python",
   "pygments_lexer": "ipython3",
   "version": "3.11.7"
  },
  "toc": {
   "base_numbering": 1,
   "nav_menu": {},
   "number_sections": false,
   "sideBar": true,
   "skip_h1_title": false,
   "title_cell": "Table of Contents",
   "title_sidebar": "Contents",
   "toc_cell": false,
   "toc_position": {
    "height": "calc(100% - 180px)",
    "left": "10px",
    "top": "150px",
    "width": "296.475px"
   },
   "toc_section_display": true,
   "toc_window_display": false
  },
  "varInspector": {
   "cols": {
    "lenName": 16,
    "lenType": 16,
    "lenVar": 40
   },
   "kernels_config": {
    "python": {
     "delete_cmd_postfix": "",
     "delete_cmd_prefix": "del ",
     "library": "var_list.py",
     "varRefreshCmd": "print(var_dic_list())"
    },
    "r": {
     "delete_cmd_postfix": ") ",
     "delete_cmd_prefix": "rm(",
     "library": "var_list.r",
     "varRefreshCmd": "cat(var_dic_list()) "
    }
   },
   "types_to_exclude": [
    "module",
    "function",
    "builtin_function_or_method",
    "instance",
    "_Feature"
   ],
   "window_display": false
  }
 },
 "nbformat": 4,
 "nbformat_minor": 4
}
