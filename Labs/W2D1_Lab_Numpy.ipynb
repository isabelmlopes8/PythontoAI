{
 "cells": [
  {
   "cell_type": "code",
   "execution_count": 1,
   "id": "215fdafc-0217-4975-bcf4-5c2552f50a15",
   "metadata": {},
   "outputs": [],
   "source": [
    "#1. Import the NUMPY package under the name np.\n",
    "\n",
    "#[your code here]\n",
    "\n",
    "import numpy as np\n"
   ]
  },
  {
   "cell_type": "code",
   "execution_count": 3,
   "id": "d0dc7d1d-3dee-4c82-870d-27d70cebbf4f",
   "metadata": {},
   "outputs": [
    {
     "name": "stdout",
     "output_type": "stream",
     "text": [
      "NumPy version: 1.26.4\n",
      "Build Dependencies:\n",
      "  blas:\n",
      "    detection method: pkgconfig\n",
      "    found: true\n",
      "    include directory: C:/Users/isabel.lopes/AppData/Local/anaconda3/Library/include\n",
      "    lib directory: C:/Users/isabel.lopes/AppData/Local/anaconda3/Library/lib\n",
      "    name: mkl-sdl\n",
      "    openblas configuration: unknown\n",
      "    pc file directory: C:\\b\\abs_c1ywpu18ar\\croot\\numpy_and_numpy_base_1708638681471\\_h_env\\Library\\lib\\pkgconfig\n",
      "    version: '2023.1'\n",
      "  lapack:\n",
      "    detection method: internal\n",
      "    found: true\n",
      "    include directory: unknown\n",
      "    lib directory: unknown\n",
      "    name: dep1868282989520\n",
      "    openblas configuration: unknown\n",
      "    pc file directory: unknown\n",
      "    version: 1.26.4\n",
      "Compilers:\n",
      "  c:\n",
      "    commands: cl.exe\n",
      "    linker: link\n",
      "    name: msvc\n",
      "    version: 19.29.30154\n",
      "  c++:\n",
      "    commands: cl.exe\n",
      "    linker: link\n",
      "    name: msvc\n",
      "    version: 19.29.30154\n",
      "  cython:\n",
      "    commands: cython\n",
      "    linker: cython\n",
      "    name: cython\n",
      "    version: 3.0.8\n",
      "Machine Information:\n",
      "  build:\n",
      "    cpu: x86_64\n",
      "    endian: little\n",
      "    family: x86_64\n",
      "    system: windows\n",
      "  host:\n",
      "    cpu: x86_64\n",
      "    endian: little\n",
      "    family: x86_64\n",
      "    system: windows\n",
      "Python Information:\n",
      "  path: C:\\b\\abs_c1ywpu18ar\\croot\\numpy_and_numpy_base_1708638681471\\_h_env\\python.exe\n",
      "  version: '3.11'\n",
      "SIMD Extensions:\n",
      "  baseline:\n",
      "  - SSE\n",
      "  - SSE2\n",
      "  - SSE3\n",
      "  found:\n",
      "  - SSSE3\n",
      "  - SSE41\n",
      "  - POPCNT\n",
      "  - SSE42\n",
      "  - AVX\n",
      "  - F16C\n",
      "  - FMA3\n",
      "  - AVX2\n",
      "  not found:\n",
      "  - AVX512F\n",
      "  - AVX512CD\n",
      "  - AVX512_SKX\n",
      "  - AVX512_CLX\n",
      "  - AVX512_CNL\n",
      "  - AVX512_ICL\n",
      "\n"
     ]
    }
   ],
   "source": [
    "#2. Print the NUMPY version and the configuration.\n",
    "\n",
    "#[your code here]\n",
    "\n",
    "print(f\"NumPy version: {np.__version__}\")\n",
    "np.show_config()"
   ]
  },
  {
   "cell_type": "code",
   "execution_count": 5,
   "id": "ebd52e99-1687-450f-afb0-7202a5503ad8",
   "metadata": {},
   "outputs": [
    {
     "name": "stdout",
     "output_type": "stream",
     "text": [
      "[[[71 24 60 94  3]\n",
      "  [48 61 73 79 97]\n",
      "  [ 1 18 89 86 53]]\n",
      "\n",
      " [[81 25 23 90 47]\n",
      "  [89 98 18 48 52]\n",
      "  [66 26 45 90 34]]]\n",
      "[[[0.93604842 0.33892182 0.29631836 0.18957936 0.29747244]\n",
      "  [0.71472309 0.62741624 0.22078688 0.79423861 0.99271221]\n",
      "  [0.62844636 0.9486524  0.04448636 0.54792196 0.7204797 ]]\n",
      "\n",
      " [[0.65212685 0.33952296 0.55893382 0.05934581 0.14386598]\n",
      "  [0.99270678 0.03846575 0.76343982 0.24925031 0.24514334]\n",
      "  [0.12836975 0.89820601 0.51694895 0.86143238 0.38985289]]]\n",
      "[[[0.30429719 0.96764391 0.52616975 0.43786554 0.72113294]\n",
      "  [0.71453878 0.66059798 0.09831853 0.05460183 0.5770227 ]\n",
      "  [0.42638266 0.85724564 0.56413599 0.02797983 0.59646838]]\n",
      "\n",
      " [[0.5264602  0.21354076 0.13775215 0.18327499 0.8890365 ]\n",
      "  [0.8344566  0.07674443 0.05630981 0.0211732  0.00271911]\n",
      "  [0.40654824 0.385428   0.20343194 0.86626533 0.10521698]]]\n"
     ]
    }
   ],
   "source": [
    "#3. Generate a 2x3x5 3-dimensional array with random values. Assign the array to variable \"a\"\n",
    "# Challenge: there are at least three easy ways that use numpy to generate random arrays. How many ways can you find?\n",
    "\n",
    "#[your code here]\n",
    "\n",
    "#Method 1\n",
    "\n",
    "a = np.random.randint(0, 100, (2, 3, 5))\n",
    "\n",
    "#Method 2\n",
    "\n",
    "a = np.random.rand(2, 3, 5)\n",
    "\n",
    "\n",
    "#Method 3\n",
    "\n",
    "a = np.random.random((2, 3, 5))\n",
    "\n"
   ]
  },
  {
   "cell_type": "code",
   "execution_count": 6,
   "id": "c31387ee-ad18-439b-97c8-830a5e40f626",
   "metadata": {},
   "outputs": [
    {
     "name": "stdout",
     "output_type": "stream",
     "text": [
      "[[[0.30429719 0.96764391 0.52616975 0.43786554 0.72113294]\n",
      "  [0.71453878 0.66059798 0.09831853 0.05460183 0.5770227 ]\n",
      "  [0.42638266 0.85724564 0.56413599 0.02797983 0.59646838]]\n",
      "\n",
      " [[0.5264602  0.21354076 0.13775215 0.18327499 0.8890365 ]\n",
      "  [0.8344566  0.07674443 0.05630981 0.0211732  0.00271911]\n",
      "  [0.40654824 0.385428   0.20343194 0.86626533 0.10521698]]]\n"
     ]
    }
   ],
   "source": [
    "#4. Print a.\n",
    "\n",
    "#[your code here]\n",
    "\n",
    "print(a)"
   ]
  },
  {
   "cell_type": "code",
   "execution_count": 8,
   "id": "57387cc3-fd00-4f2d-8def-9474c8059d07",
   "metadata": {},
   "outputs": [],
   "source": [
    "#5. Create a 5x2x3 3-dimensional array with all values equaling 1.\n",
    "#Assign the arry to variable \"b\"\n",
    "\n",
    "#[your code here]\n",
    "\n",
    "b = np.ones((5, 2, 3))"
   ]
  },
  {
   "cell_type": "code",
   "execution_count": 9,
   "id": "735b4a85-5fe8-495a-9b3c-a71ded14dbb3",
   "metadata": {},
   "outputs": [
    {
     "name": "stdout",
     "output_type": "stream",
     "text": [
      "[[[1. 1. 1.]\n",
      "  [1. 1. 1.]]\n",
      "\n",
      " [[1. 1. 1.]\n",
      "  [1. 1. 1.]]\n",
      "\n",
      " [[1. 1. 1.]\n",
      "  [1. 1. 1.]]\n",
      "\n",
      " [[1. 1. 1.]\n",
      "  [1. 1. 1.]]\n",
      "\n",
      " [[1. 1. 1.]\n",
      "  [1. 1. 1.]]]\n"
     ]
    }
   ],
   "source": [
    "#6. Print b.\n",
    "\n",
    "#[your code here]\n",
    "\n",
    "print(b)"
   ]
  },
  {
   "cell_type": "code",
   "execution_count": 13,
   "id": "3463dc29-8e60-4979-a041-587474a18772",
   "metadata": {},
   "outputs": [
    {
     "name": "stdout",
     "output_type": "stream",
     "text": [
      "Size of a: 30\n",
      "Size of b: 30\n",
      "array a and b have the same size\n"
     ]
    }
   ],
   "source": [
    "#7. Do a and b have the same size? How do you prove that in Python code?\n",
    "\n",
    "#[your code here]\n",
    "\n",
    "print(\"Size of a:\", a.size)\n",
    "print(\"Size of b:\", b.size)\n",
    "\n",
    "if a.size == b.size:\n",
    "    print(\"array a and b have the same size\")\n",
    "else:\n",
    "    print(\"array a and b do not have the same size\")\n"
   ]
  },
  {
   "cell_type": "code",
   "execution_count": 22,
   "id": "9e118f61-16d4-453e-9381-0a613ad7dfc5",
   "metadata": {},
   "outputs": [
    {
     "name": "stdout",
     "output_type": "stream",
     "text": [
      "Shape of a (2, 3, 5)\n",
      "Shape of b (5, 2, 3)\n"
     ]
    },
    {
     "ename": "ValueError",
     "evalue": "operands could not be broadcast together with shapes (2,3,5) (5,2,3) ",
     "output_type": "error",
     "traceback": [
      "\u001b[1;31m---------------------------------------------------------------------------\u001b[0m",
      "\u001b[1;31mValueError\u001b[0m                                Traceback (most recent call last)",
      "Cell \u001b[1;32mIn[22], line 8\u001b[0m\n\u001b[0;32m      5\u001b[0m \u001b[38;5;28mprint\u001b[39m(\u001b[38;5;124m\"\u001b[39m\u001b[38;5;124mShape of a\u001b[39m\u001b[38;5;124m\"\u001b[39m,a\u001b[38;5;241m.\u001b[39mshape)\n\u001b[0;32m      6\u001b[0m \u001b[38;5;28mprint\u001b[39m(\u001b[38;5;124m\"\u001b[39m\u001b[38;5;124mShape of b\u001b[39m\u001b[38;5;124m\"\u001b[39m,b\u001b[38;5;241m.\u001b[39mshape)\n\u001b[1;32m----> 8\u001b[0m result \u001b[38;5;241m=\u001b[39m a\u001b[38;5;241m+\u001b[39mb\n",
      "\u001b[1;31mValueError\u001b[0m: operands could not be broadcast together with shapes (2,3,5) (5,2,3) "
     ]
    }
   ],
   "source": [
    "#8. Are you able to add a and b? Why or why not?\n",
    "\n",
    "#[your code here]\n",
    "\n",
    "print(\"Shape of a\",a.shape)\n",
    "print(\"Shape of b\",b.shape)\n",
    "\n",
    "result = a+b\n",
    "\n",
    "#It is not possible to add a and b because their last dimenson is different"
   ]
  },
  {
   "cell_type": "code",
   "execution_count": 28,
   "id": "edbbb2b2-7017-4ec1-915c-1ca845915cbf",
   "metadata": {},
   "outputs": [
    {
     "name": "stdout",
     "output_type": "stream",
     "text": [
      "[[[1. 1. 1. 1. 1.]\n",
      "  [1. 1. 1. 1. 1.]\n",
      "  [1. 1. 1. 1. 1.]]\n",
      "\n",
      " [[1. 1. 1. 1. 1.]\n",
      "  [1. 1. 1. 1. 1.]\n",
      "  [1. 1. 1. 1. 1.]]]\n"
     ]
    },
    {
     "data": {
      "text/plain": [
       "(2, 3, 5)"
      ]
     },
     "execution_count": 28,
     "metadata": {},
     "output_type": "execute_result"
    }
   ],
   "source": [
    "#9. Transpose b so that it has the same structure of a (i.e. become a 2x3x5 array). Assign the transposed array to varialbe \"c\".\n",
    "\n",
    "#[your code here]\n",
    "\n",
    "c = np.transpose(b,(1,2,0))\n",
    "\n",
    "print(c)\n",
    "\n",
    "c.shape"
   ]
  },
  {
   "cell_type": "code",
   "execution_count": 31,
   "id": "5feb14b0-54a2-4fd5-b5f3-598cc346b104",
   "metadata": {},
   "outputs": [
    {
     "name": "stdout",
     "output_type": "stream",
     "text": [
      "Shape of a (2, 3, 5)\n",
      "Shape of a (2, 3, 5)\n"
     ]
    }
   ],
   "source": [
    "#10. Try to add a and c. Now it should work. Assign the sum to varialbe \"d\". But why does it work now?\n",
    "\n",
    "#[your code here]\n",
    "\n",
    "d= a+c\n",
    "\n",
    "print(\"Shape of a\", a.shape)\n",
    "print(\"Shape of a\", d.shape)\n",
    "\n",
    "#Now each one of the dimensions has the same value"
   ]
  },
  {
   "cell_type": "code",
   "execution_count": 34,
   "id": "1235c316-9dca-4e16-9e06-61591cec62b9",
   "metadata": {},
   "outputs": [
    {
     "name": "stdout",
     "output_type": "stream",
     "text": [
      "a [[[0.30429719 0.96764391 0.52616975 0.43786554 0.72113294]\n",
      "  [0.71453878 0.66059798 0.09831853 0.05460183 0.5770227 ]\n",
      "  [0.42638266 0.85724564 0.56413599 0.02797983 0.59646838]]\n",
      "\n",
      " [[0.5264602  0.21354076 0.13775215 0.18327499 0.8890365 ]\n",
      "  [0.8344566  0.07674443 0.05630981 0.0211732  0.00271911]\n",
      "  [0.40654824 0.385428   0.20343194 0.86626533 0.10521698]]]\n",
      "d [[[1.30429719 1.96764391 1.52616975 1.43786554 1.72113294]\n",
      "  [1.71453878 1.66059798 1.09831853 1.05460183 1.5770227 ]\n",
      "  [1.42638266 1.85724564 1.56413599 1.02797983 1.59646838]]\n",
      "\n",
      " [[1.5264602  1.21354076 1.13775215 1.18327499 1.8890365 ]\n",
      "  [1.8344566  1.07674443 1.05630981 1.0211732  1.00271911]\n",
      "  [1.40654824 1.385428   1.20343194 1.86626533 1.10521698]]]\n"
     ]
    }
   ],
   "source": [
    "#11. Print a and d. Notice the difference and relation of the two array in terms of the values? Explain.\n",
    "\n",
    "#[your code here]\n",
    "\n",
    "print(\"a\",a)\n",
    "\n",
    "print(\"d\",d)\n",
    "\n",
    "#Each one of the values in array d is equal to the values in array a +1"
   ]
  },
  {
   "cell_type": "code",
   "execution_count": 35,
   "id": "e0d4cc25-5ed2-494f-8319-8d4ada43430d",
   "metadata": {},
   "outputs": [],
   "source": [
    "#12. Multiply a and c. Assign the result to e.\n",
    "\n",
    "#[your code here]\n",
    "\n",
    "e = a*c\n",
    "\n"
   ]
  },
  {
   "cell_type": "code",
   "execution_count": 40,
   "id": "7f1e5e7c-b0c2-4908-9c51-97d87a3b8300",
   "metadata": {},
   "outputs": [
    {
     "name": "stdout",
     "output_type": "stream",
     "text": [
      "a: [[[0.30429719 0.96764391 0.52616975 0.43786554 0.72113294]\n",
      "  [0.71453878 0.66059798 0.09831853 0.05460183 0.5770227 ]\n",
      "  [0.42638266 0.85724564 0.56413599 0.02797983 0.59646838]]\n",
      "\n",
      " [[0.5264602  0.21354076 0.13775215 0.18327499 0.8890365 ]\n",
      "  [0.8344566  0.07674443 0.05630981 0.0211732  0.00271911]\n",
      "  [0.40654824 0.385428   0.20343194 0.86626533 0.10521698]]]\n",
      "e: [[[0.30429719 0.96764391 0.52616975 0.43786554 0.72113294]\n",
      "  [0.71453878 0.66059798 0.09831853 0.05460183 0.5770227 ]\n",
      "  [0.42638266 0.85724564 0.56413599 0.02797983 0.59646838]]\n",
      "\n",
      " [[0.5264602  0.21354076 0.13775215 0.18327499 0.8890365 ]\n",
      "  [0.8344566  0.07674443 0.05630981 0.0211732  0.00271911]\n",
      "  [0.40654824 0.385428   0.20343194 0.86626533 0.10521698]]]\n",
      "Comparison: [[[ True  True  True  True  True]\n",
      "  [ True  True  True  True  True]\n",
      "  [ True  True  True  True  True]]\n",
      "\n",
      " [[ True  True  True  True  True]\n",
      "  [ True  True  True  True  True]\n",
      "  [ True  True  True  True  True]]]\n"
     ]
    }
   ],
   "source": [
    "#13. Does e equal to a? Why or why not?\n",
    "\n",
    "#[your code here]\n",
    "print(\"a:\", a  )\n",
    "print(\"e:\", e  )\n",
    "\n",
    "print(\"Comparison:\", a ==e)\n",
    "\n",
    "\n",
    "#Array c is the transpose of matrix b which is a matrix of ones. So any number multiplied by one is itself"
   ]
  },
  {
   "cell_type": "code",
   "execution_count": 42,
   "id": "768f2a86-2700-4af8-8e2b-61853cf94f22",
   "metadata": {},
   "outputs": [
    {
     "name": "stdout",
     "output_type": "stream",
     "text": [
      "d_max is: 1.9676439144619775\n",
      "d_min is: 1.0027191092293628\n",
      "d_mean is: 1.4147586620062276\n"
     ]
    }
   ],
   "source": [
    "#14. Identify the max, min, and mean values in d. Assign those values to variables \"d_max\", \"d_min\", and \"d_mean\"\n",
    "\n",
    "#[your code here]\n",
    "\n",
    "d_max = np.max(d)\n",
    "d_min = np.min(d)\n",
    "d_mean = np.mean(d)\n",
    "\n",
    "\n",
    "print(\"d_max is:\", d_max)\n",
    "print(\"d_min is:\", d_min)\n",
    "print(\"d_mean is:\", d_mean)\n",
    "\n",
    "\n",
    "\n"
   ]
  },
  {
   "cell_type": "code",
   "execution_count": 43,
   "id": "90a1d2f8-5a68-44b7-b679-6341ee167c4d",
   "metadata": {},
   "outputs": [],
   "source": [
    "#15. Now we want to label the values in d. First create an empty array \"f\" with the same shape (i.e. 2x3x5) as d using `np.empty`.\n",
    "\n",
    "#[your code here]\n",
    "\n",
    "\n",
    "f = np.empty(d.shape)\n",
    "\n"
   ]
  },
  {
   "cell_type": "code",
   "execution_count": null,
   "id": "f9fbf970-1443-49bf-aaf7-7e40ca63e14e",
   "metadata": {},
   "outputs": [],
   "source": [
    "#16. Populate the values in f. \n",
    "For each value in d, if it's larger than d_min but smaller than d_mean, assign 25 to the corresponding value in f.\n",
    "If a value in d is larger than d_mean but smaller than d_max, assign 75 to the corresponding value in f.\n",
    "If a value equals to d_mean, assign 50 to the corresponding value in f.\n",
    "Assign 0 to the corresponding value(s) in f for d_min in d.\n",
    "Assign 100 to the corresponding value(s) in f for d_max in d.\n",
    "In the end, f should have only the following values: 0, 25, 50, 75, and 100.\n",
    "Note: you don't have to use Numpy in this question."
   ]
  },
  {
   "cell_type": "code",
   "execution_count": 46,
   "id": "e41f22af-ee33-4eb8-af28-1821ce896549",
   "metadata": {},
   "outputs": [
    {
     "name": "stdout",
     "output_type": "stream",
     "text": [
      "Array 'd':\n",
      " [[[1.30429719 1.96764391 1.52616975 1.43786554 1.72113294]\n",
      "  [1.71453878 1.66059798 1.09831853 1.05460183 1.5770227 ]\n",
      "  [1.42638266 1.85724564 1.56413599 1.02797983 1.59646838]]\n",
      "\n",
      " [[1.5264602  1.21354076 1.13775215 1.18327499 1.8890365 ]\n",
      "  [1.8344566  1.07674443 1.05630981 1.0211732  1.00271911]\n",
      "  [1.40654824 1.385428   1.20343194 1.86626533 1.10521698]]]\n",
      "\n",
      "Array 'f':\n",
      " [[[ 25. 100.  75.  75.  75.]\n",
      "  [ 75.  75.  25.  25.  75.]\n",
      "  [ 75.  75.  75.  25.  75.]]\n",
      "\n",
      " [[ 75.  25.  25.  25.  75.]\n",
      "  [ 75.  25.  25.  25.   0.]\n",
      "  [ 25.  25.  25.  75.  25.]]]\n"
     ]
    }
   ],
   "source": [
    "#[your code here]\n",
    "\n",
    "for i in range(d.shape[0]):\n",
    "    for j in range(d.shape[1]):\n",
    "        for k in range(d.shape[2]):\n",
    "            if d[i, j, k] == d_min:\n",
    "                f[i, j, k] = 0\n",
    "            elif d[i, j, k] == d_max:\n",
    "                f[i, j, k] = 100\n",
    "            elif d[i, j, k] == d_mean:\n",
    "                f[i, j, k] = 50\n",
    "            elif d_min < d[i, j, k] < d_mean:\n",
    "                f[i, j, k] = 25\n",
    "            elif d_mean < d[i, j, k] < d_max:\n",
    "                f[i, j, k] = 75\n",
    "\n",
    "\n",
    "# Print the arrays 'd' and 'f'\n",
    "print(\"Array 'd':\\n\", d)\n",
    "print(\"\\nArray 'f':\\n\", f)\n",
    "\n",
    "\n"
   ]
  },
  {
   "cell_type": "code",
   "execution_count": 75,
   "id": "a3a56b36-0f14-4172-9616-709d3cb2c467",
   "metadata": {},
   "outputs": [
    {
     "name": "stdout",
     "output_type": "stream",
     "text": [
      "[[[1.85836099 1.67064465 1.62576044 1.40243961 1.88454931]\n",
      "  [1.75354326 1.69403643 1.36729252 1.61415071 1.12104981]\n",
      "  [1.72201435 1.1862918  1.87078449 1.7726778  1.88180042]]\n",
      "\n",
      " [[1.44747908 1.31673383 1.02000951 1.52218947 1.97066381]\n",
      "  [1.79129243 1.74983003 1.96028037 1.85166831 1.65450881]\n",
      "  [1.18068344 1.9587381  1.00656599 1.93402165 1.73514584]]]\n",
      "[[[ 75.  75.  75.  25.  75.]\n",
      "  [ 75.  75.  25.  25.  25.]\n",
      "  [ 75.  25.  75.  75.  75.]]\n",
      "\n",
      " [[ 25.  25.  25.  25. 100.]\n",
      "  [ 75.  75.  75.  75.  75.]\n",
      "  [ 25.  75.   0.  75.  75.]]]\n"
     ]
    }
   ],
   "source": [
    "#17. Print d and f. Do you have your expected f?\n",
    "\n",
    "\n",
    "#For instance, if your d is:\n",
    "d=np.array([[[1.85836099, 1.67064465, 1.62576044, 1.40243961, 1.88454931],\n",
    "    [1.75354326, 1.69403643, 1.36729252, 1.61415071, 1.12104981],\n",
    "    [1.72201435, 1.1862918 , 1.87078449, 1.7726778 , 1.88180042]],\n",
    "\n",
    "   [[1.44747908, 1.31673383, 1.02000951, 1.52218947, 1.97066381],\n",
    "    [1.79129243, 1.74983003, 1.96028037, 1.85166831, 1.65450881],\n",
    "    [1.18068344, 1.9587381 , 1.00656599, 1.93402165, 1.73514584]]])\n",
    "\n",
    "\n",
    "\n",
    "for i in range(d.shape[0]):\n",
    "    for j in range(d.shape[1]):\n",
    "        for k in range(d.shape[2]):\n",
    "            if d[i, j, k] == d_min:\n",
    "                f[i, j, k] = 0\n",
    "            elif d[i, j, k] == d_max:\n",
    "                f[i, j, k] = 100\n",
    "            elif d[i, j, k] == d_mean:\n",
    "                f[i, j, k] = 50\n",
    "            elif d_min < d[i, j, k] < d_mean:\n",
    "                f[i, j, k] = 25\n",
    "            elif d_mean < d[i, j, k] < d_max:\n",
    "                f[i, j, k] = 75\n",
    "\"\"\"\n",
    "Your f should be:\n",
    "array([[[ 75.,  75.,  75.,  25.,  75.],\n",
    "        [ 75.,  75.,  25.,  25.,  25.],\n",
    "        [ 75.,  25.,  75.,  75.,  75.]],\n",
    "\n",
    "       [[ 25.,  25.,  25.,  25., 100.],\n",
    "        [ 75.,  75.,  75.,  75.,  75.],\n",
    "        [ 25.,  75.,   0.,  75.,  75.]]])\n",
    "\"\"\"\n",
    "\n",
    "#[your code here]\n",
    "\n",
    "\n",
    "print(f)\n",
    "\n"
   ]
  },
  {
   "cell_type": "code",
   "execution_count": 84,
   "id": "2849ebf8-e2e4-4eef-bfa1-76d6d8cf2970",
   "metadata": {},
   "outputs": [
    {
     "name": "stdout",
     "output_type": "stream",
     "text": [
      "d is: [[[1.85836099 1.67064465 1.62576044 1.40243961 1.88454931]\n",
      "  [1.75354326 1.69403643 1.36729252 1.61415071 1.12104981]\n",
      "  [1.72201435 1.1862918  1.87078449 1.7726778  1.88180042]]\n",
      "\n",
      " [[1.44747908 1.31673383 1.02000951 1.52218947 1.97066381]\n",
      "  [1.79129243 1.74983003 1.96028037 1.85166831 1.65450881]\n",
      "  [1.18068344 1.9587381  1.00656599 1.93402165 1.73514584]]]\n",
      "f is:  [[['D' 'D' 'D' 'B' 'D']\n",
      "  ['D' 'D' 'B' 'B' 'B']\n",
      "  ['D' 'B' 'D' 'D' 'D']]\n",
      "\n",
      " [['B' 'B' 'B' 'B' 'E']\n",
      "  ['D' 'D' 'D' 'D' 'D']\n",
      "  ['B' 'D' 'A' 'D' 'D']]]\n"
     ]
    }
   ],
   "source": [
    "#18. Bonus question: instead of using numbers (i.e. 0, 25, 50, 75, and 100), how to use string values \n",
    "\"\"\"(\"A\", \"B\", \"C\", \"D\", and \"E\") to label the array elements? You are expecting the result to be:\n",
    "array([[[ 'D',  'D',  'D',  'B',  'D'],\n",
    "        [ 'D',  'D',  'B',  'B',  'B'],\n",
    "        [ 'D',  'B',  'D',  'D',  'D']],\n",
    "\n",
    "       [[ 'B',  'B',  'B',  'B',  'E'],\n",
    "        [ 'D',  'D',  'D',  'D',  'D'],\n",
    "        [ 'B',  'D',   'A',  'D', 'D']]])\n",
    "Again, you don't need Numpy in this question.\n",
    "\"\"\"\n",
    "\n",
    "\n",
    "print(\"d is:\",d)\n",
    "\n",
    "d_max = np.max(d)\n",
    "d_min = np.min(d)\n",
    "d_mean = np.mean(d)\n",
    "#[your code here]\n",
    "\n",
    "f = np.empty(d.shape, dtype=str)\n",
    "\n",
    "for i in range(d.shape[0]):\n",
    "    for j in range(d.shape[1]):\n",
    "        for k in range(d.shape[2]):\n",
    "            if d[i, j, k] == d_min:\n",
    "                f[i, j, k] = \"A\"\n",
    "            elif d[i, j, k] == d_max:\n",
    "                f[i, j, k] = \"E\"\n",
    "            elif d[i, j, k] == d_mean:\n",
    "                f[i, j, k] = \"C\"\n",
    "            elif d_min < d[i, j, k] < d_mean:\n",
    "                f[i, j, k] = \"B\"\n",
    "            elif d_mean < d[i, j, k] < d_max:\n",
    "                f[i, j, k] = \"D\"\n",
    "\n",
    "print(\"f is: \",f)"
   ]
  }
 ],
 "metadata": {
  "kernelspec": {
   "display_name": "Python 3 (ipykernel)",
   "language": "python",
   "name": "python3"
  },
  "language_info": {
   "codemirror_mode": {
    "name": "ipython",
    "version": 3
   },
   "file_extension": ".py",
   "mimetype": "text/x-python",
   "name": "python",
   "nbconvert_exporter": "python",
   "pygments_lexer": "ipython3",
   "version": "3.11.7"
  }
 },
 "nbformat": 4,
 "nbformat_minor": 5
}
