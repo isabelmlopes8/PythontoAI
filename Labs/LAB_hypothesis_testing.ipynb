{
 "cells": [
  {
   "cell_type": "markdown",
   "metadata": {},
   "source": [
    "# Before your start:\n",
    "- Read the README.md file\n",
    "- Comment as much as you can and use the resources (README.md file)\n",
    "- Happy learning!"
   ]
  },
  {
   "cell_type": "code",
   "execution_count": 22,
   "metadata": {},
   "outputs": [],
   "source": [
    "# import numpy and pandas\n",
    "import pandas as pd\n",
    "import numpy as np\n",
    "from scipy.stats import trim_mean, mode, skew, gaussian_kde, pearsonr, spearmanr, beta\n",
    "from statsmodels.stats.weightstats import ztest as ztest\n",
    "\n",
    "from scipy.stats import ttest_ind, norm, t\n",
    "from scipy.stats import f_oneway\n",
    "from scipy.stats import sem\n",
    "from scipy import stats"
   ]
  },
  {
   "cell_type": "markdown",
   "metadata": {},
   "source": [
    "# Challenge 1 - Exploring the Data\n",
    "\n",
    "In this challenge, we will examine all salaries of employees of the City of Chicago. We will start by loading the dataset and examining its contents"
   ]
  },
  {
   "cell_type": "code",
   "execution_count": 6,
   "metadata": {},
   "outputs": [],
   "source": [
    "# Run this code:\n",
    "salaries = pd.read_csv('C:/Users/isabel.lopes/OneDrive - XPLOR SOLUTIONS/PythonForAISolutions/WEEK2/DAY2/Current_Employee_Names__Salaries__and_Position_Titles.csv')"
   ]
  },
  {
   "cell_type": "markdown",
   "metadata": {},
   "source": [
    "Examine the `salaries` dataset using the `head` function below."
   ]
  },
  {
   "cell_type": "code",
   "execution_count": 7,
   "metadata": {},
   "outputs": [
    {
     "name": "stdout",
     "output_type": "stream",
     "text": [
      "                  Name                              Job Titles  \\\n",
      "0    AARON,  JEFFERY M                                SERGEANT   \n",
      "1      AARON,  KARINA   POLICE OFFICER (ASSIGNED AS DETECTIVE)   \n",
      "2  AARON,  KIMBERLEI R                CHIEF CONTRACT EXPEDITER   \n",
      "3  ABAD JR,  VICENTE M                       CIVIL ENGINEER IV   \n",
      "4    ABASCAL,  REECE E             TRAFFIC CONTROL AIDE-HOURLY   \n",
      "\n",
      "         Department Full or Part-Time Salary or Hourly  Typical Hours  \\\n",
      "0            POLICE                 F           Salary            NaN   \n",
      "1            POLICE                 F           Salary            NaN   \n",
      "2  GENERAL SERVICES                 F           Salary            NaN   \n",
      "3       WATER MGMNT                 F           Salary            NaN   \n",
      "4              OEMC                 P           Hourly           20.0   \n",
      "\n",
      "   Annual Salary  Hourly Rate  \n",
      "0       101442.0          NaN  \n",
      "1        94122.0          NaN  \n",
      "2       101592.0          NaN  \n",
      "3       110064.0          NaN  \n",
      "4            NaN        19.86  \n"
     ]
    }
   ],
   "source": [
    "# Your code here:\n",
    "\n",
    "print(salaries.head())"
   ]
  },
  {
   "cell_type": "markdown",
   "metadata": {},
   "source": [
    "We see from looking at the `head` function that there is quite a bit of missing data. Let's examine how much missing data is in each column. Produce this output in the cell below"
   ]
  },
  {
   "cell_type": "code",
   "execution_count": 8,
   "metadata": {},
   "outputs": [
    {
     "name": "stdout",
     "output_type": "stream",
     "text": [
      "Missing data:\n",
      "                   Missing values  Percentage\n",
      "Name                            0    0.000000\n",
      "Job Titles                      0    0.000000\n",
      "Department                      0    0.000000\n",
      "Full or Part-Time               0    0.000000\n",
      "Salary or Hourly                0    0.000000\n",
      "Typical Hours               25161   75.824971\n",
      "Annual Salary                8022   24.175029\n",
      "Hourly Rate                 25161   75.824971\n"
     ]
    }
   ],
   "source": [
    "# Your code here:\n",
    "\n",
    "\n",
    "missing_data_values = salaries.isnull().sum()\n",
    "missing_data = missing_data_values / len(salaries)*100\n",
    "missing_data_output = pd.DataFrame({'Missing values': missing_data_values, 'Percentage': missing_data})\n",
    "print(\"Missing data:\")\n",
    "print(missing_data_output)\n"
   ]
  },
  {
   "cell_type": "markdown",
   "metadata": {},
   "source": [
    "Let's also look at the count of hourly vs. salaried employees. Write the code in the cell below"
   ]
  },
  {
   "cell_type": "code",
   "execution_count": 9,
   "metadata": {},
   "outputs": [
    {
     "name": "stdout",
     "output_type": "stream",
     "text": [
      "Salary or Hourly\n",
      "Salary    25161\n",
      "Hourly     8022\n",
      "Name: count, dtype: int64\n"
     ]
    }
   ],
   "source": [
    "# Your code here:\n",
    "\n",
    "hourly_vs_salaried_counts = salaries['Salary or Hourly'].value_counts()\n",
    "\n",
    "print(hourly_vs_salaried_counts)\n"
   ]
  },
  {
   "cell_type": "markdown",
   "metadata": {},
   "source": [
    "What this information indicates is that the table contains information about two types of employees - salaried and hourly. Some columns apply only to one type of employee while other columns only apply to another kind. This is why there are so many missing values. Therefore, we will not do anything to handle the missing values."
   ]
  },
  {
   "cell_type": "markdown",
   "metadata": {},
   "source": [
    "There are different departments in the city. List all departments and the count of employees in each department."
   ]
  },
  {
   "cell_type": "code",
   "execution_count": 10,
   "metadata": {},
   "outputs": [
    {
     "name": "stdout",
     "output_type": "stream",
     "text": [
      "Department\n",
      "ADMIN HEARNG                39\n",
      "ANIMAL CONTRL               81\n",
      "AVIATION                  1629\n",
      "BOARD OF ELECTION          107\n",
      "BOARD OF ETHICS              8\n",
      "BUDGET & MGMT               46\n",
      "BUILDINGS                  269\n",
      "BUSINESS AFFAIRS           171\n",
      "CITY CLERK                  84\n",
      "CITY COUNCIL               411\n",
      "COMMUNITY DEVELOPMENT      207\n",
      "COPA                       116\n",
      "CULTURAL AFFAIRS            65\n",
      "DISABILITIES                28\n",
      "DoIT                        99\n",
      "FAMILY & SUPPORT           615\n",
      "FINANCE                    560\n",
      "FIRE                      4641\n",
      "GENERAL SERVICES           980\n",
      "HEALTH                     488\n",
      "HUMAN RELATIONS             16\n",
      "HUMAN RESOURCES             79\n",
      "INSPECTOR GEN               87\n",
      "LAW                        407\n",
      "LICENSE APPL COMM            1\n",
      "MAYOR'S OFFICE              85\n",
      "OEMC                      2102\n",
      "POLICE                   13414\n",
      "POLICE BOARD                 2\n",
      "PROCUREMENT                 92\n",
      "PUBLIC LIBRARY            1015\n",
      "STREETS & SAN             2198\n",
      "TRANSPORTN                1140\n",
      "TREASURER                   22\n",
      "WATER MGMNT               1879\n",
      "Name: Name, dtype: int64\n"
     ]
    }
   ],
   "source": [
    "# Your code here:\n",
    "\n",
    "department_counts = salaries.groupby('Department')['Name'].count()\n",
    "\n",
    "\n",
    "print(department_counts)"
   ]
  },
  {
   "cell_type": "markdown",
   "metadata": {},
   "source": [
    "# Challenge 2 - Hypothesis Tests\n",
    "\n",
    "In this section of the lab, we will test whether the hourly wage of all hourly workers is significantly different from $30/hr. Import the correct one sample test function from scipy and perform the hypothesis test for a 95% two sided confidence interval."
   ]
  },
  {
   "cell_type": "code",
   "execution_count": 11,
   "metadata": {},
   "outputs": [
    {
     "name": "stdout",
     "output_type": "stream",
     "text": [
      "count    8022.000000\n",
      "mean       32.788558\n",
      "std        12.112573\n",
      "min         2.650000\n",
      "25%        21.200000\n",
      "50%        35.600000\n",
      "75%        40.200000\n",
      "max       109.000000\n",
      "Name: Hourly Rate, dtype: float64\n",
      "Z-statistic: 20.6198057854942\n",
      "P-value: 1.8228873859286195e-94\n",
      "Reject null hypothesis: The mean hourly wage is significantly different from $30/hr.\n"
     ]
    }
   ],
   "source": [
    "from statsmodels.stats.weightstats import ztest\n",
    "# Since we have an N of 8022 and only one sample (Hourly workers), we go for a Z-test\n",
    "# H0: Hourly rate == 30\n",
    "# H1: Hourly rate != 30\n",
    "salaries_hourly = salaries.loc[salaries['Salary or Hourly'] == 'Hourly']\n",
    "\n",
    "\n",
    "# your code here\n",
    "\n",
    "hourly_rates_workers = salaries_hourly['Hourly Rate'] #select only the \"Hourly Rate\" column\n",
    "\n",
    "print(hourly_rates_workers.describe())\n",
    "\n",
    "z_statistic, p_value = ztest(hourly_rates_workers, value=30)\n",
    "\n",
    "print(f\"Z-statistic: {z_statistic}\")\n",
    "print(f\"P-value: {p_value}\")\n",
    "\n",
    "alpha = 0.05  # significance level\n",
    "if p_value < alpha:\n",
    "    print(\"Reject null hypothesis: The mean hourly wage is significantly different from $30/hr.\")\n",
    "else:\n",
    "    print(\"Fail to reject null hypothesis: The mean hourly wage is not significantly different from $30/hr.\")"
   ]
  },
  {
   "cell_type": "markdown",
   "metadata": {},
   "source": [
    "We are also curious about salaries in the police force. The chief of police in Chicago claimed in a press briefing that salaries this year are higher than last year's mean of $86000/year a year for all salaried employees. Test this one sided hypothesis using a 95% confidence interval.\n",
    "\n",
    "Hint: A one tailed test has a p-value that is half of the two tailed p-value. If our hypothesis is greater than, then to reject, the test statistic must also be positive."
   ]
  },
  {
   "cell_type": "code",
   "execution_count": 12,
   "metadata": {},
   "outputs": [],
   "source": [
    "# Subset of the dataset: only Police department\n",
    "salaries_police = salaries[(salaries['Department'] == 'POLICE') & (salaries['Salary or Hourly'] == 'Salary')]"
   ]
  },
  {
   "cell_type": "code",
   "execution_count": 13,
   "metadata": {},
   "outputs": [
    {
     "name": "stdout",
     "output_type": "stream",
     "text": [
      "count     13404.000000\n",
      "mean      86486.414503\n",
      "std       18272.228294\n",
      "min       38376.000000\n",
      "25%       84054.000000\n",
      "50%       90024.000000\n",
      "75%       94524.000000\n",
      "max      260004.000000\n",
      "Name: Annual Salary, dtype: float64\n",
      "Z-statistic: 3.081997005712994\n",
      "P-value (one-tailed): 0.0010280845287547855\n",
      "Reject null hypothesis: The mean annual salary is significantly greater than $86,000/year.\n"
     ]
    }
   ],
   "source": [
    "# Since we have an N of 13404 and only one sample (salary of the police), we go for a Z-test\n",
    "# H0: Annual Salary == 86000\n",
    "# H1: Annual Salary > 86000\n",
    "\n",
    "# your code here\n",
    "\n",
    "annual_salaries_police = salaries_police['Annual Salary']\n",
    "\n",
    "print(annual_salaries_police.describe())\n",
    "\n",
    "z_statistic, p_value_two_tailed = ztest(annual_salaries_police, value=86000)\n",
    "\n",
    "p_value_one_tailed = p_value_two_tailed / 2\n",
    "\n",
    "print(f\"Z-statistic: {z_statistic}\")\n",
    "print(f\"P-value (one-tailed): {p_value_one_tailed}\")\n",
    "\n",
    "alpha = 0.05  # significance level\n",
    "if p_value_one_tailed < alpha and z_statistic > 0:\n",
    "    print(\"Reject null hypothesis: The mean annual salary is significantly greater than $86,000/year.\")\n",
    "else:\n",
    "    print(\"Fail to reject null hypothesis: The mean annual salary is not significantly greater than $86,000/year.\")\n"
   ]
  },
  {
   "cell_type": "markdown",
   "metadata": {},
   "source": [
    "Using the `crosstab` function, find the department that has the most hourly workers. "
   ]
  },
  {
   "cell_type": "code",
   "execution_count": 14,
   "metadata": {
    "scrolled": true
   },
   "outputs": [
    {
     "name": "stdout",
     "output_type": "stream",
     "text": [
      "Department with the most hourly workers: STREETS & SAN\n",
      "Number of people: 1862\n"
     ]
    }
   ],
   "source": [
    "# Your code here:\n",
    "department_hourly_count = pd.crosstab(index=salaries_hourly['Department'], columns='count')\n",
    "\n",
    "max_hourly_workers_department = department_hourly_count['count'].idxmax()\n",
    "\n",
    "max_hourly_workers_count = department_hourly_count['count'].max()\n",
    "\n",
    "print(f\"Department with the most hourly workers:\", max_hourly_workers_department)\n",
    "print(f\"Number of people:\", max_hourly_workers_count)"
   ]
  },
  {
   "cell_type": "markdown",
   "metadata": {},
   "source": [
    "The workers from the department with the most hourly workers have complained that their hourly wage is less than $35/hour. Using a one sample t-test, test this one-sided hypothesis at the 95% confidence level."
   ]
  },
  {
   "cell_type": "code",
   "execution_count": 46,
   "metadata": {},
   "outputs": [
    {
     "name": "stdout",
     "output_type": "stream",
     "text": [
      "0\n",
      "33.72837808807734\n",
      "T-statistic: -9.567447887848152\n",
      "P-value: 1.6689265282353859e-21\n",
      "Reject the null hypothesis. The hourly wage is significantly less than $35/hour.\n"
     ]
    }
   ],
   "source": [
    "# your code here\n",
    "salaries_dept_most_h_workers =  salaries[salaries['Department'] == max_hourly_workers_department]['Hourly Rate']\n",
    "\n",
    "# H0: The mean hourly wage is >= $35\n",
    "# H1: The mean hourly wage is < $35\n",
    "\n",
    "\n",
    "salaries_dept_most_h_workers = salaries_dept_most_h_workers.dropna()\n",
    "\n",
    "print(salaries_dept_most_h_workers.isnull().sum())\n",
    "\n",
    "print(salaries_dept_most_h_workers.mean())\n",
    "\n",
    "t_statistic, p_value = stats.ttest_1samp(salaries_dept_most_h_workers, 35,alternative='less')\n",
    "\n",
    "print(f\"T-statistic: {t_statistic}\")\n",
    "print(f\"P-value: {p_value}\")\n",
    "\n",
    "alpha = 0.05\n",
    "if p_value < alpha:\n",
    "    print(\"Reject the null hypothesis. The hourly wage is significantly less than $35/hour.\")\n",
    "else:\n",
    "    print(\"Fail to reject the null hypothesis. The hourly wage is not significantly less than $35/hour.\")"
   ]
  }
 ],
 "metadata": {
  "kernelspec": {
   "display_name": "Python 3 (ipykernel)",
   "language": "python",
   "name": "python3"
  },
  "language_info": {
   "codemirror_mode": {
    "name": "ipython",
    "version": 3
   },
   "file_extension": ".py",
   "mimetype": "text/x-python",
   "name": "python",
   "nbconvert_exporter": "python",
   "pygments_lexer": "ipython3",
   "version": "3.11.7"
  }
 },
 "nbformat": 4,
 "nbformat_minor": 4
}
